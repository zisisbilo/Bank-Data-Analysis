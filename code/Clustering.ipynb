{
 "cells": [
  {
   "cell_type": "markdown",
   "metadata": {},
   "source": [
    "Libraries import"
   ]
  },
  {
   "cell_type": "code",
   "execution_count": 26,
   "metadata": {
    "colab": {
     "base_uri": "https://localhost:8080/",
     "height": 70
    },
    "executionInfo": {
     "elapsed": 1643,
     "status": "ok",
     "timestamp": 1591810444204,
     "user": {
      "displayName": "Zisis Biloroglou",
      "photoUrl": "",
      "userId": "06989248455902026137"
     },
     "user_tz": -180
    },
    "id": "7TeY7Fr2um8L",
    "outputId": "4255a78d-7034-4b3b-bb64-6b52cd64aeec"
   },
   "outputs": [],
   "source": [
    "import os\n",
    "import numpy as np\n",
    "import pandas as pd\n",
    "import matplotlib.pyplot as plt\n",
    "import seaborn as sns\n",
    "import random\n",
    "import math\n",
    "%matplotlib inline\n",
    "from datetime import datetime\n",
    "from datetime import date"
   ]
  },
  {
   "cell_type": "markdown",
   "metadata": {},
   "source": [
    "Read the csv files"
   ]
  },
  {
   "cell_type": "code",
   "execution_count": 27,
   "metadata": {
    "id": "I4B41qNRwX7I"
   },
   "outputs": [],
   "source": [
    "devices = pd.read_csv(\"data/devices.csv\")\n",
    "notifications = pd.read_csv(\"data/notifications.csv\")\n",
    "users = pd.read_csv(\"data/users.csv\")\n",
    "transactions = pd.read_csv(\"data/transactions_full.csv\")"
   ]
  },
  {
   "cell_type": "markdown",
   "metadata": {},
   "source": [
    "Dataset shapes"
   ]
  },
  {
   "cell_type": "code",
   "execution_count": 28,
   "metadata": {
    "colab": {
     "base_uri": "https://localhost:8080/",
     "height": 168
    },
    "executionInfo": {
     "elapsed": 12748,
     "status": "ok",
     "timestamp": 1591810549421,
     "user": {
      "displayName": "Zisis Biloroglou",
      "photoUrl": "",
      "userId": "06989248455902026137"
     },
     "user_tz": -180
    },
    "id": "gYo106PSzL1h",
    "outputId": "85284de9-daa6-427b-c836-f67449485dc1"
   },
   "outputs": [
    {
     "name": "stdout",
     "output_type": "stream",
     "text": [
      "devices:  (15544, 2)\n",
      "notifications:  (97704, 5)\n",
      "users:  (15544, 12)\n",
      "transactions:  (2181026, 12)\n"
     ]
    }
   ],
   "source": [
    "print(\"devices: \", devices.shape) \n",
    "print(\"notifications: \", notifications.shape) \n",
    "print(\"users: \", users.shape) \n",
    "print(\"transactions: \", transactions.shape)"
   ]
  },
  {
   "cell_type": "code",
   "execution_count": 29,
   "metadata": {
    "id": "xS0Ck_BhuD2d"
   },
   "outputs": [],
   "source": [
    "# calculate difference between dates\n",
    "\n",
    "def days_between(d1, d2='2019-05-17'):\n",
    "    d1 = str(pd.to_datetime(d1, dayfirst=True))[:10]\n",
    "    d1 = datetime.strptime(d1, \"%Y-%m-%d\")\n",
    "    d2 = datetime.strptime(d2, \"%Y-%m-%d\")\n",
    "    return abs((d2 - d1).days)"
   ]
  },
  {
   "cell_type": "code",
   "execution_count": 30,
   "metadata": {
    "id": "pkGIcCDsMexz"
   },
   "outputs": [],
   "source": [
    "# change Unknown brand based on the rest\n",
    "\n",
    "def change_unknown_brand(brand):\n",
    "    if brand == 'Unknown':\n",
    "        return random.sample(['Android', 'Apple'], 1)[0]\n",
    "    else:\n",
    "        return brand"
   ]
  },
  {
   "cell_type": "markdown",
   "metadata": {},
   "source": [
    "Dataset modifications and creation of base data table"
   ]
  },
  {
   "cell_type": "code",
   "execution_count": 31,
   "metadata": {
    "id": "0OyYYl_dteJ5"
   },
   "outputs": [],
   "source": [
    "data = users.merge(devices)\n",
    "data['birth_year'] = data['birth_year'].apply(lambda x: 2020-x)\n",
    "data['created_date'] = data['created_date'].apply(days_between)\n",
    "data = data.drop(columns = ['num_referrals','num_successful_referrals','country','city', 'attributes_notifications_marketing_push', 'attributes_notifications_marketing_email'])\n",
    "data = data.rename(columns={'birth_year':'age', 'created_date': 'reg_days', 'user_settings_crypto_unlocked':'crypto'})\n",
    "plan_dict = {'STANDARD': 0, 'SILVER': 1, 'GOLD': 1}\n",
    "data['plan'] = data['plan'].replace(plan_dict)\n",
    "data['brand'] = data['brand'].apply(change_unknown_brand)\n",
    "data = pd.get_dummies(data, columns=['brand'])"
   ]
  },
  {
   "cell_type": "markdown",
   "metadata": {},
   "source": [
    "Notifications table modification"
   ]
  },
  {
   "cell_type": "code",
   "execution_count": 32,
   "metadata": {},
   "outputs": [],
   "source": [
    "notifications = notifications[['status','user_id']]\n",
    "notifications = notifications[~notifications['status'].isin(['FAILED'])]\n",
    "notifications.drop(columns='status',inplace=True)\n",
    "notifications = notifications['user_id'].value_counts().rename_axis('user_id').reset_index(name='notif_counts')"
   ]
  },
  {
   "cell_type": "markdown",
   "metadata": {},
   "source": [
    "Transactions table modification"
   ]
  },
  {
   "cell_type": "code",
   "execution_count": 33,
   "metadata": {},
   "outputs": [],
   "source": [
    "transactions = transactions[['user_id','amount_usd','transactions_state','direction', 'transactions_type']]\n",
    "transactions = transactions[transactions['transactions_state'].isin(['COMPLETED'])]"
   ]
  },
  {
   "cell_type": "code",
   "execution_count": 34,
   "metadata": {
    "id": "bgn5wtslD7B7"
   },
   "outputs": [],
   "source": [
    "t1 = transactions.pivot_table(index='user_id', columns='transactions_type',aggfunc='size', fill_value=0)"
   ]
  },
  {
   "cell_type": "code",
   "execution_count": 35,
   "metadata": {
    "id": "TCr8-WJynx48"
   },
   "outputs": [],
   "source": [
    "t2 = transactions.groupby(by=['user_id', 'direction'], as_index=False)['amount_usd'].sum()\n",
    "t2 = t2.pivot(index='user_id', columns='direction', values='amount_usd')"
   ]
  },
  {
   "cell_type": "code",
   "execution_count": 36,
   "metadata": {
    "id": "5lUo_7x7FXfR"
   },
   "outputs": [],
   "source": [
    "t1['user_id'] = t1.index\n",
    "t2['user_id'] = t2.index\n",
    "\n",
    "t1.reset_index(drop=True, inplace=True)\n",
    "t2.reset_index(drop=True, inplace=True)"
   ]
  },
  {
   "cell_type": "code",
   "execution_count": 37,
   "metadata": {
    "id": "ntqVRLfyEq98"
   },
   "outputs": [],
   "source": [
    "transactions = t1.merge(t2, on = 'user_id')"
   ]
  },
  {
   "cell_type": "code",
   "execution_count": 38,
   "metadata": {
    "id": "V2_1WTwOtixr"
   },
   "outputs": [],
   "source": [
    "data = data.set_index('user_id').join(transactions.set_index('user_id'))\n",
    "data['user_id'] = data.index\n",
    "data.reset_index(drop=True, inplace=True)\n",
    "data = data.set_index('user_id').join(notifications.set_index('user_id'))"
   ]
  },
  {
   "cell_type": "code",
   "execution_count": 39,
   "metadata": {
    "id": "Er-0aFgCAK9T"
   },
   "outputs": [],
   "source": [
    "data.fillna(0, inplace=True)"
   ]
  },
  {
   "cell_type": "code",
   "execution_count": 40,
   "metadata": {
    "id": "Tbbp9GSI8eZo"
   },
   "outputs": [],
   "source": [
    "data['SUM'] = data['INBOUND'] + data['OUTBOUND']"
   ]
  },
  {
   "cell_type": "code",
   "execution_count": 42,
   "metadata": {},
   "outputs": [],
   "source": [
    "data = data.drop(columns = ['num_contacts','brand_Android','brand_Apple','INBOUND', 'OUTBOUND', 'notif_counts'])"
   ]
  },
  {
   "cell_type": "code",
   "execution_count": 44,
   "metadata": {
    "id": "PaqecEVM-tMt"
   },
   "outputs": [],
   "source": [
    "data.reset_index(drop=True, inplace=True)"
   ]
  },
  {
   "cell_type": "code",
   "execution_count": 45,
   "metadata": {},
   "outputs": [
    {
     "data": {
      "text/html": [
       "<div>\n",
       "<style scoped>\n",
       "    .dataframe tbody tr th:only-of-type {\n",
       "        vertical-align: middle;\n",
       "    }\n",
       "\n",
       "    .dataframe tbody tr th {\n",
       "        vertical-align: top;\n",
       "    }\n",
       "\n",
       "    .dataframe thead th {\n",
       "        text-align: right;\n",
       "    }\n",
       "</style>\n",
       "<table border=\"1\" class=\"dataframe\">\n",
       "  <thead>\n",
       "    <tr style=\"text-align: right;\">\n",
       "      <th></th>\n",
       "      <th>age</th>\n",
       "      <th>reg_days</th>\n",
       "      <th>crypto</th>\n",
       "      <th>plan</th>\n",
       "      <th>ATM</th>\n",
       "      <th>CARD_PAYMENT</th>\n",
       "      <th>CARD_REFUND</th>\n",
       "      <th>CASHBACK</th>\n",
       "      <th>EXCHANGE</th>\n",
       "      <th>FEE</th>\n",
       "      <th>REFUND</th>\n",
       "      <th>TAX</th>\n",
       "      <th>TOPUP</th>\n",
       "      <th>TRANSFER</th>\n",
       "      <th>SUM</th>\n",
       "    </tr>\n",
       "  </thead>\n",
       "  <tbody>\n",
       "    <tr>\n",
       "      <th>0</th>\n",
       "      <td>28</td>\n",
       "      <td>249</td>\n",
       "      <td>0</td>\n",
       "      <td>0</td>\n",
       "      <td>0.0</td>\n",
       "      <td>333.0</td>\n",
       "      <td>1.0</td>\n",
       "      <td>0.0</td>\n",
       "      <td>5.0</td>\n",
       "      <td>0.0</td>\n",
       "      <td>0.0</td>\n",
       "      <td>0.0</td>\n",
       "      <td>158.0</td>\n",
       "      <td>23.0</td>\n",
       "      <td>6925.08</td>\n",
       "    </tr>\n",
       "    <tr>\n",
       "      <th>1</th>\n",
       "      <td>35</td>\n",
       "      <td>491</td>\n",
       "      <td>1</td>\n",
       "      <td>0</td>\n",
       "      <td>4.0</td>\n",
       "      <td>78.0</td>\n",
       "      <td>0.0</td>\n",
       "      <td>0.0</td>\n",
       "      <td>0.0</td>\n",
       "      <td>0.0</td>\n",
       "      <td>0.0</td>\n",
       "      <td>0.0</td>\n",
       "      <td>24.0</td>\n",
       "      <td>27.0</td>\n",
       "      <td>12955.54</td>\n",
       "    </tr>\n",
       "    <tr>\n",
       "      <th>2</th>\n",
       "      <td>24</td>\n",
       "      <td>169</td>\n",
       "      <td>0</td>\n",
       "      <td>0</td>\n",
       "      <td>0.0</td>\n",
       "      <td>97.0</td>\n",
       "      <td>0.0</td>\n",
       "      <td>0.0</td>\n",
       "      <td>0.0</td>\n",
       "      <td>0.0</td>\n",
       "      <td>0.0</td>\n",
       "      <td>0.0</td>\n",
       "      <td>37.0</td>\n",
       "      <td>134.0</td>\n",
       "      <td>2723.90</td>\n",
       "    </tr>\n",
       "    <tr>\n",
       "      <th>3</th>\n",
       "      <td>39</td>\n",
       "      <td>454</td>\n",
       "      <td>0</td>\n",
       "      <td>0</td>\n",
       "      <td>0.0</td>\n",
       "      <td>120.0</td>\n",
       "      <td>0.0</td>\n",
       "      <td>0.0</td>\n",
       "      <td>0.0</td>\n",
       "      <td>0.0</td>\n",
       "      <td>0.0</td>\n",
       "      <td>0.0</td>\n",
       "      <td>13.0</td>\n",
       "      <td>7.0</td>\n",
       "      <td>6999.29</td>\n",
       "    </tr>\n",
       "    <tr>\n",
       "      <th>4</th>\n",
       "      <td>28</td>\n",
       "      <td>494</td>\n",
       "      <td>0</td>\n",
       "      <td>0</td>\n",
       "      <td>0.0</td>\n",
       "      <td>37.0</td>\n",
       "      <td>1.0</td>\n",
       "      <td>0.0</td>\n",
       "      <td>4.0</td>\n",
       "      <td>0.0</td>\n",
       "      <td>0.0</td>\n",
       "      <td>0.0</td>\n",
       "      <td>8.0</td>\n",
       "      <td>0.0</td>\n",
       "      <td>981.43</td>\n",
       "    </tr>\n",
       "    <tr>\n",
       "      <th>...</th>\n",
       "      <td>...</td>\n",
       "      <td>...</td>\n",
       "      <td>...</td>\n",
       "      <td>...</td>\n",
       "      <td>...</td>\n",
       "      <td>...</td>\n",
       "      <td>...</td>\n",
       "      <td>...</td>\n",
       "      <td>...</td>\n",
       "      <td>...</td>\n",
       "      <td>...</td>\n",
       "      <td>...</td>\n",
       "      <td>...</td>\n",
       "      <td>...</td>\n",
       "      <td>...</td>\n",
       "    </tr>\n",
       "    <tr>\n",
       "      <th>15539</th>\n",
       "      <td>23</td>\n",
       "      <td>285</td>\n",
       "      <td>0</td>\n",
       "      <td>0</td>\n",
       "      <td>1.0</td>\n",
       "      <td>42.0</td>\n",
       "      <td>1.0</td>\n",
       "      <td>0.0</td>\n",
       "      <td>13.0</td>\n",
       "      <td>1.0</td>\n",
       "      <td>0.0</td>\n",
       "      <td>0.0</td>\n",
       "      <td>32.0</td>\n",
       "      <td>1.0</td>\n",
       "      <td>4274.95</td>\n",
       "    </tr>\n",
       "    <tr>\n",
       "      <th>15540</th>\n",
       "      <td>35</td>\n",
       "      <td>414</td>\n",
       "      <td>0</td>\n",
       "      <td>0</td>\n",
       "      <td>0.0</td>\n",
       "      <td>4.0</td>\n",
       "      <td>1.0</td>\n",
       "      <td>0.0</td>\n",
       "      <td>0.0</td>\n",
       "      <td>1.0</td>\n",
       "      <td>0.0</td>\n",
       "      <td>0.0</td>\n",
       "      <td>3.0</td>\n",
       "      <td>1.0</td>\n",
       "      <td>97.10</td>\n",
       "    </tr>\n",
       "    <tr>\n",
       "      <th>15541</th>\n",
       "      <td>42</td>\n",
       "      <td>308</td>\n",
       "      <td>0</td>\n",
       "      <td>0</td>\n",
       "      <td>0.0</td>\n",
       "      <td>534.0</td>\n",
       "      <td>0.0</td>\n",
       "      <td>0.0</td>\n",
       "      <td>5.0</td>\n",
       "      <td>1.0</td>\n",
       "      <td>0.0</td>\n",
       "      <td>0.0</td>\n",
       "      <td>77.0</td>\n",
       "      <td>445.0</td>\n",
       "      <td>17721.66</td>\n",
       "    </tr>\n",
       "    <tr>\n",
       "      <th>15542</th>\n",
       "      <td>43</td>\n",
       "      <td>495</td>\n",
       "      <td>0</td>\n",
       "      <td>1</td>\n",
       "      <td>0.0</td>\n",
       "      <td>7.0</td>\n",
       "      <td>0.0</td>\n",
       "      <td>7.0</td>\n",
       "      <td>0.0</td>\n",
       "      <td>4.0</td>\n",
       "      <td>0.0</td>\n",
       "      <td>0.0</td>\n",
       "      <td>3.0</td>\n",
       "      <td>2.0</td>\n",
       "      <td>408.72</td>\n",
       "    </tr>\n",
       "    <tr>\n",
       "      <th>15543</th>\n",
       "      <td>26</td>\n",
       "      <td>272</td>\n",
       "      <td>1</td>\n",
       "      <td>0</td>\n",
       "      <td>0.0</td>\n",
       "      <td>195.0</td>\n",
       "      <td>0.0</td>\n",
       "      <td>0.0</td>\n",
       "      <td>0.0</td>\n",
       "      <td>0.0</td>\n",
       "      <td>0.0</td>\n",
       "      <td>0.0</td>\n",
       "      <td>41.0</td>\n",
       "      <td>201.0</td>\n",
       "      <td>2653.80</td>\n",
       "    </tr>\n",
       "  </tbody>\n",
       "</table>\n",
       "<p>15544 rows × 15 columns</p>\n",
       "</div>"
      ],
      "text/plain": [
       "       age  reg_days  crypto  plan  ATM  CARD_PAYMENT  CARD_REFUND  CASHBACK  \\\n",
       "0       28       249       0     0  0.0         333.0          1.0       0.0   \n",
       "1       35       491       1     0  4.0          78.0          0.0       0.0   \n",
       "2       24       169       0     0  0.0          97.0          0.0       0.0   \n",
       "3       39       454       0     0  0.0         120.0          0.0       0.0   \n",
       "4       28       494       0     0  0.0          37.0          1.0       0.0   \n",
       "...    ...       ...     ...   ...  ...           ...          ...       ...   \n",
       "15539   23       285       0     0  1.0          42.0          1.0       0.0   \n",
       "15540   35       414       0     0  0.0           4.0          1.0       0.0   \n",
       "15541   42       308       0     0  0.0         534.0          0.0       0.0   \n",
       "15542   43       495       0     1  0.0           7.0          0.0       7.0   \n",
       "15543   26       272       1     0  0.0         195.0          0.0       0.0   \n",
       "\n",
       "       EXCHANGE  FEE  REFUND  TAX  TOPUP  TRANSFER       SUM  \n",
       "0           5.0  0.0     0.0  0.0  158.0      23.0   6925.08  \n",
       "1           0.0  0.0     0.0  0.0   24.0      27.0  12955.54  \n",
       "2           0.0  0.0     0.0  0.0   37.0     134.0   2723.90  \n",
       "3           0.0  0.0     0.0  0.0   13.0       7.0   6999.29  \n",
       "4           4.0  0.0     0.0  0.0    8.0       0.0    981.43  \n",
       "...         ...  ...     ...  ...    ...       ...       ...  \n",
       "15539      13.0  1.0     0.0  0.0   32.0       1.0   4274.95  \n",
       "15540       0.0  1.0     0.0  0.0    3.0       1.0     97.10  \n",
       "15541       5.0  1.0     0.0  0.0   77.0     445.0  17721.66  \n",
       "15542       0.0  4.0     0.0  0.0    3.0       2.0    408.72  \n",
       "15543       0.0  0.0     0.0  0.0   41.0     201.0   2653.80  \n",
       "\n",
       "[15544 rows x 15 columns]"
      ]
     },
     "execution_count": 45,
     "metadata": {},
     "output_type": "execute_result"
    }
   ],
   "source": [
    "data"
   ]
  },
  {
   "cell_type": "markdown",
   "metadata": {},
   "source": [
    "### Clustering Algorithm"
   ]
  },
  {
   "cell_type": "code",
   "execution_count": 46,
   "metadata": {
    "colab": {
     "base_uri": "https://localhost:8080/",
     "height": 136
    },
    "executionInfo": {
     "elapsed": 31558,
     "status": "ok",
     "timestamp": 1591689227442,
     "user": {
      "displayName": "Ioanna Englezou",
      "photoUrl": "",
      "userId": "13493248031345646298"
     },
     "user_tz": -180
    },
    "id": "GWbG39_TGhaK",
    "outputId": "2d299f8a-bbf4-4303-ff03-df0ad98ef993"
   },
   "outputs": [
    {
     "name": "stdout",
     "output_type": "stream",
     "text": [
      "For k = 3 The average silhouette_score is : 0.40034418535590754\n",
      "For k = 4 The average silhouette_score is : 0.4466105933382612\n",
      "For k = 5 The average silhouette_score is : 0.46727296599942664\n",
      "For k = 6 The average silhouette_score is : 0.4182690797786698\n",
      "For k = 7 The average silhouette_score is : 0.39585097297244876\n",
      "For k = 8 The average silhouette_score is : 0.3658947984315839\n",
      "For k = 9 The average silhouette_score is : 0.36611961109940455\n"
     ]
    }
   ],
   "source": [
    "from sklearn.cluster import KMeans\n",
    "from sklearn.decomposition import PCA\n",
    "from sklearn.metrics import silhouette_samples, silhouette_score\n",
    "from sklearn.preprocessing import MinMaxScaler\n",
    "\n",
    "sc = MinMaxScaler()\n",
    "X = sc.fit_transform(data.values)\n",
    "\n",
    "for k in range(3,10):\n",
    "    kmeans = KMeans(n_clusters = k, n_init=30, random_state=1000)\n",
    "    kmeans.fit(X)\n",
    "    clusters = kmeans.predict(X)\n",
    "    silhouette_avg = silhouette_score(X, clusters)\n",
    "    print(\"For k =\", k, \"The average silhouette_score is :\", silhouette_avg)"
   ]
  },
  {
   "cell_type": "code",
   "execution_count": 47,
   "metadata": {
    "colab": {
     "base_uri": "https://localhost:8080/",
     "height": 224
    },
    "executionInfo": {
     "elapsed": 1926,
     "status": "ok",
     "timestamp": 1591626575896,
     "user": {
      "displayName": "Ioanna Englezou",
      "photoUrl": "",
      "userId": "13493248031345646298"
     },
     "user_tz": -180
    },
    "id": "ekLegwdcEjsi",
    "outputId": "0be84d8b-d55b-4506-bb13-24b8a0530e6c"
   },
   "outputs": [
    {
     "data": {
      "text/html": [
       "<div>\n",
       "<style scoped>\n",
       "    .dataframe tbody tr th:only-of-type {\n",
       "        vertical-align: middle;\n",
       "    }\n",
       "\n",
       "    .dataframe tbody tr th {\n",
       "        vertical-align: top;\n",
       "    }\n",
       "\n",
       "    .dataframe thead th {\n",
       "        text-align: right;\n",
       "    }\n",
       "</style>\n",
       "<table border=\"1\" class=\"dataframe\">\n",
       "  <thead>\n",
       "    <tr style=\"text-align: right;\">\n",
       "      <th></th>\n",
       "      <th>age</th>\n",
       "      <th>reg_days</th>\n",
       "      <th>crypto</th>\n",
       "      <th>plan</th>\n",
       "      <th>ATM</th>\n",
       "      <th>CARD_PAYMENT</th>\n",
       "      <th>CARD_REFUND</th>\n",
       "      <th>CASHBACK</th>\n",
       "      <th>EXCHANGE</th>\n",
       "      <th>FEE</th>\n",
       "      <th>REFUND</th>\n",
       "      <th>TAX</th>\n",
       "      <th>TOPUP</th>\n",
       "      <th>TRANSFER</th>\n",
       "      <th>SUM</th>\n",
       "    </tr>\n",
       "  </thead>\n",
       "  <tbody>\n",
       "    <tr>\n",
       "      <th>0</th>\n",
       "      <td>34.32</td>\n",
       "      <td>322.21</td>\n",
       "      <td>1.0</td>\n",
       "      <td>0.0</td>\n",
       "      <td>4.25</td>\n",
       "      <td>78.12</td>\n",
       "      <td>0.90</td>\n",
       "      <td>0.31</td>\n",
       "      <td>12.25</td>\n",
       "      <td>1.36</td>\n",
       "      <td>0.09</td>\n",
       "      <td>0.26</td>\n",
       "      <td>19.77</td>\n",
       "      <td>40.91</td>\n",
       "      <td>7093.53</td>\n",
       "    </tr>\n",
       "    <tr>\n",
       "      <th>1</th>\n",
       "      <td>36.50</td>\n",
       "      <td>212.65</td>\n",
       "      <td>0.0</td>\n",
       "      <td>-0.0</td>\n",
       "      <td>2.29</td>\n",
       "      <td>39.72</td>\n",
       "      <td>0.33</td>\n",
       "      <td>0.00</td>\n",
       "      <td>3.81</td>\n",
       "      <td>0.57</td>\n",
       "      <td>0.03</td>\n",
       "      <td>0.11</td>\n",
       "      <td>10.00</td>\n",
       "      <td>15.07</td>\n",
       "      <td>3709.67</td>\n",
       "    </tr>\n",
       "    <tr>\n",
       "      <th>2</th>\n",
       "      <td>36.60</td>\n",
       "      <td>394.57</td>\n",
       "      <td>0.0</td>\n",
       "      <td>-0.0</td>\n",
       "      <td>4.21</td>\n",
       "      <td>67.26</td>\n",
       "      <td>0.63</td>\n",
       "      <td>0.01</td>\n",
       "      <td>7.55</td>\n",
       "      <td>0.88</td>\n",
       "      <td>0.06</td>\n",
       "      <td>0.11</td>\n",
       "      <td>16.74</td>\n",
       "      <td>20.92</td>\n",
       "      <td>6457.20</td>\n",
       "    </tr>\n",
       "    <tr>\n",
       "      <th>3</th>\n",
       "      <td>39.84</td>\n",
       "      <td>282.36</td>\n",
       "      <td>-0.0</td>\n",
       "      <td>1.0</td>\n",
       "      <td>10.80</td>\n",
       "      <td>141.20</td>\n",
       "      <td>1.09</td>\n",
       "      <td>35.20</td>\n",
       "      <td>19.61</td>\n",
       "      <td>5.08</td>\n",
       "      <td>0.23</td>\n",
       "      <td>0.22</td>\n",
       "      <td>28.05</td>\n",
       "      <td>53.40</td>\n",
       "      <td>48193.32</td>\n",
       "    </tr>\n",
       "    <tr>\n",
       "      <th>4</th>\n",
       "      <td>36.31</td>\n",
       "      <td>328.33</td>\n",
       "      <td>1.0</td>\n",
       "      <td>1.0</td>\n",
       "      <td>13.23</td>\n",
       "      <td>195.30</td>\n",
       "      <td>1.58</td>\n",
       "      <td>67.16</td>\n",
       "      <td>33.92</td>\n",
       "      <td>7.24</td>\n",
       "      <td>0.52</td>\n",
       "      <td>0.35</td>\n",
       "      <td>42.40</td>\n",
       "      <td>101.91</td>\n",
       "      <td>35739.34</td>\n",
       "    </tr>\n",
       "  </tbody>\n",
       "</table>\n",
       "</div>"
      ],
      "text/plain": [
       "     age  reg_days  crypto  plan    ATM  CARD_PAYMENT  CARD_REFUND  CASHBACK  \\\n",
       "0  34.32    322.21     1.0   0.0   4.25         78.12         0.90      0.31   \n",
       "1  36.50    212.65     0.0  -0.0   2.29         39.72         0.33      0.00   \n",
       "2  36.60    394.57     0.0  -0.0   4.21         67.26         0.63      0.01   \n",
       "3  39.84    282.36    -0.0   1.0  10.80        141.20         1.09     35.20   \n",
       "4  36.31    328.33     1.0   1.0  13.23        195.30         1.58     67.16   \n",
       "\n",
       "   EXCHANGE   FEE  REFUND   TAX  TOPUP  TRANSFER       SUM  \n",
       "0     12.25  1.36    0.09  0.26  19.77     40.91   7093.53  \n",
       "1      3.81  0.57    0.03  0.11  10.00     15.07   3709.67  \n",
       "2      7.55  0.88    0.06  0.11  16.74     20.92   6457.20  \n",
       "3     19.61  5.08    0.23  0.22  28.05     53.40  48193.32  \n",
       "4     33.92  7.24    0.52  0.35  42.40    101.91  35739.34  "
      ]
     },
     "execution_count": 47,
     "metadata": {},
     "output_type": "execute_result"
    }
   ],
   "source": [
    "k_u = 5\n",
    "kmeans_cust = KMeans(n_clusters = k_u, n_init=30, random_state=1000)\n",
    "cust_clusters = kmeans_cust.fit_predict(X)\n",
    "\n",
    "centroids = sc.inverse_transform(np.array(kmeans_cust.cluster_centers_))\n",
    "\n",
    "pd.DataFrame(centroids, columns=data.columns[:]).round(2)"
   ]
  },
  {
   "cell_type": "code",
   "execution_count": 48,
   "metadata": {
    "id": "i4aaFTmhEpat"
   },
   "outputs": [],
   "source": [
    "from sklearn.decomposition import PCA\n",
    "pca = PCA(n_components=3)\n",
    "\n",
    "centers_principalComponents = pca.fit_transform(kmeans_cust.cluster_centers_)\n",
    "centers_principalDf = pd.DataFrame(data = centers_principalComponents\n",
    "             , columns = ['principal component 1', 'principal component 2','principal component 3'])"
   ]
  },
  {
   "cell_type": "code",
   "execution_count": 49,
   "metadata": {
    "colab": {
     "base_uri": "https://localhost:8080/",
     "height": 119
    },
    "executionInfo": {
     "elapsed": 1669,
     "status": "ok",
     "timestamp": 1591638012939,
     "user": {
      "displayName": "Ioanna Englezou",
      "photoUrl": "",
      "userId": "13493248031345646298"
     },
     "user_tz": -180
    },
    "id": "QT9xNqCTAhXm",
    "outputId": "7f40afc3-4589-4d71-e12e-bbb16788f4b2"
   },
   "outputs": [
    {
     "name": "stdout",
     "output_type": "stream",
     "text": [
      "   principal component 1  principal component 2  principal component 3\n",
      "0               0.129043               0.711707              -0.029783\n",
      "1              -0.581724              -0.026237              -0.233547\n",
      "2              -0.557281               0.015650               0.260531\n",
      "3               0.150650              -0.711340              -0.015194\n",
      "4               0.859312               0.010219               0.017993\n"
     ]
    }
   ],
   "source": [
    "print(centers_principalDf)"
   ]
  },
  {
   "cell_type": "code",
   "execution_count": 65,
   "metadata": {
    "colab": {
     "base_uri": "https://localhost:8080/",
     "height": 357
    },
    "executionInfo": {
     "elapsed": 1607,
     "status": "ok",
     "timestamp": 1591626599910,
     "user": {
      "displayName": "Ioanna Englezou",
      "photoUrl": "",
      "userId": "13493248031345646298"
     },
     "user_tz": -180
    },
    "id": "7GhHXL6bFjP4",
    "outputId": "b6d97419-929d-462d-8417-038cebe46ae9"
   },
   "outputs": [
    {
     "data": {
      "image/png": "[encoded data removed]",
      "text/plain": [
       "<Figure size 432x432 with 1 Axes>"
      ]
     },
     "metadata": {
      "needs_background": "light"
     },
     "output_type": "display_data"
    }
   ],
   "source": [
    "import matplotlib.pyplot as plt\n",
    "from mpl_toolkits.mplot3d import Axes3D\n",
    "import numpy as np\n",
    "\n",
    "colors = np.array(['red', 'green', 'blue','black','yellow'])\n",
    "x = centers_principalDf['principal component 1']\n",
    "y = centers_principalDf['principal component 2']\n",
    "z = centers_principalDf['principal component 3']\n",
    "\n",
    "fig = plt.figure(figsize=(6, 6))\n",
    "ax = fig.add_subplot(111, projection='3d')\n",
    "ax.scatter(x, y, z,\n",
    "           linewidths=1, alpha=.7,\n",
    "           edgecolor='k',\n",
    "           s = 200,\n",
    "           c=colors)\n",
    "plt.show()"
   ]
  }
 ],
 "metadata": {
  "colab": {
   "name": "clustering.ipynb",
   "provenance": []
  },
  "kernelspec": {
   "display_name": "Python 3",
   "language": "python",
   "name": "python3"
  },
  "language_info": {
   "codemirror_mode": {
    "name": "ipython",
    "version": 3
   },
   "file_extension": ".py",
   "mimetype": "text/x-python",
   "name": "python",
   "nbconvert_exporter": "python",
   "pygments_lexer": "ipython3",
   "version": "3.9.2"
  }
 },
 "nbformat": 4,
 "nbformat_minor": 1
}
