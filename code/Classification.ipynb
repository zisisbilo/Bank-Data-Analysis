{
 "cells": [
  {
   "cell_type": "markdown",
   "metadata": {},
   "source": [
    "Libraries import"
   ]
  },
  {
   "cell_type": "code",
   "execution_count": 1,
   "metadata": {
    "colab": {
     "base_uri": "https://localhost:8080/",
     "height": 70
    },
    "executionInfo": {
     "elapsed": 1643,
     "status": "ok",
     "timestamp": 1591810444204,
     "user": {
      "displayName": "Zisis Biloroglou",
      "photoUrl": "",
      "userId": "06989248455902026137"
     },
     "user_tz": -180
    },
    "id": "7TeY7Fr2um8L",
    "outputId": "4255a78d-7034-4b3b-bb64-6b52cd64aeec"
   },
   "outputs": [],
   "source": [
    "import os\n",
    "import numpy as np\n",
    "import pandas as pd\n",
    "import matplotlib.pyplot as plt\n",
    "import seaborn as sns\n",
    "import random\n",
    "import math\n",
    "%matplotlib inline\n",
    "from datetime import datetime\n",
    "from datetime import date"
   ]
  },
  {
   "cell_type": "markdown",
   "metadata": {},
   "source": [
    "Read the csv files"
   ]
  },
  {
   "cell_type": "code",
   "execution_count": 2,
   "metadata": {
    "id": "I4B41qNRwX7I"
   },
   "outputs": [],
   "source": [
    "devices = pd.read_csv(\"data/devices.csv\")\n",
    "notifications = pd.read_csv(\"data/notifications.csv\")\n",
    "users = pd.read_csv(\"data/users.csv\")\n",
    "transactions = pd.read_csv(\"data/transactions_full.csv\")\n",
    "\n",
    "devices_test = pd.read_csv(\"data/devices_test.csv\")\n",
    "notifications_test = pd.read_csv(\"data/notifications_test.csv\")\n",
    "users_test = pd.read_csv(\"data/users_test.csv\")\n",
    "transactions_test = pd.read_csv(\"data/transactions_test.csv\")"
   ]
  },
  {
   "cell_type": "markdown",
   "metadata": {},
   "source": [
    "Dataset shapes"
   ]
  },
  {
   "cell_type": "code",
   "execution_count": 3,
   "metadata": {
    "colab": {
     "base_uri": "https://localhost:8080/",
     "height": 168
    },
    "executionInfo": {
     "elapsed": 12748,
     "status": "ok",
     "timestamp": 1591810549421,
     "user": {
      "displayName": "Zisis Biloroglou",
      "photoUrl": "",
      "userId": "06989248455902026137"
     },
     "user_tz": -180
    },
    "id": "gYo106PSzL1h",
    "outputId": "85284de9-daa6-427b-c836-f67449485dc1"
   },
   "outputs": [
    {
     "name": "stdout",
     "output_type": "stream",
     "text": [
      "devices:  (15544, 2)\n",
      "notifications:  (97704, 5)\n",
      "users:  (15544, 12)\n",
      "transactions:  (2181026, 12)\n",
      "----------------------------------\n",
      "devices_test:  (3886, 2)\n",
      "notifications_test:  (23731, 5)\n",
      "users_test:  (3886, 11)\n",
      "transactions_test:  (536450, 12)\n"
     ]
    }
   ],
   "source": [
    "print(\"devices: \", devices.shape) \n",
    "print(\"notifications: \", notifications.shape) \n",
    "print(\"users: \", users.shape) \n",
    "print(\"transactions: \", transactions.shape)\n",
    "print('----------------------------------')\n",
    "print(\"devices_test: \", devices_test.shape) \n",
    "print(\"notifications_test: \", notifications_test.shape) \n",
    "print(\"users_test: \", users_test.shape) \n",
    "print(\"transactions_test: \", transactions_test.shape)"
   ]
  },
  {
   "cell_type": "code",
   "execution_count": 4,
   "metadata": {
    "id": "xS0Ck_BhuD2d"
   },
   "outputs": [],
   "source": [
    "# calculate difference between dates\n",
    "\n",
    "def days_between(d1, d2='2019-05-17'):\n",
    "    d1 = str(pd.to_datetime(d1, dayfirst=True))[:10]\n",
    "    d1 = datetime.strptime(d1, \"%Y-%m-%d\")\n",
    "    d2 = datetime.strptime(d2, \"%Y-%m-%d\")\n",
    "    return abs((d2 - d1).days)"
   ]
  },
  {
   "cell_type": "code",
   "execution_count": 5,
   "metadata": {
    "id": "pkGIcCDsMexz"
   },
   "outputs": [],
   "source": [
    "# change Unknown brand based on the rest\n",
    "\n",
    "def change_unknown_brand(brand):\n",
    "    if brand == 'Unknown':\n",
    "        return random.sample(['Android', 'Apple'], 1)[0]\n",
    "    else:\n",
    "        return brand"
   ]
  },
  {
   "cell_type": "markdown",
   "metadata": {},
   "source": [
    "Dataset modifications and creation of base data table"
   ]
  },
  {
   "cell_type": "code",
   "execution_count": 6,
   "metadata": {
    "id": "0OyYYl_dteJ5"
   },
   "outputs": [],
   "source": [
    "data = users.merge(devices)\n",
    "data_test = users_test.merge(devices_test)\n",
    "\n",
    "data['birth_year'] = data['birth_year'].apply(lambda x: 2020-x)\n",
    "data_test['birth_year'] = data_test['birth_year'].apply(lambda x: 2020-x)\n",
    "\n",
    "data['created_date'] = data['created_date'].apply(days_between)\n",
    "data_test['created_date'] = data_test['created_date'].apply(days_between)\n",
    "\n",
    "data = data.drop(columns = ['num_referrals','num_successful_referrals','country','city', 'attributes_notifications_marketing_push', 'attributes_notifications_marketing_email'])\n",
    "data_test = data_test.drop(columns = ['num_referrals','num_successful_referrals','country','city', 'attributes_notifications_marketing_push', 'attributes_notifications_marketing_email'])\n",
    "\n",
    "data = data.rename(columns={'birth_year':'age', 'created_date': 'reg_days', 'user_settings_crypto_unlocked':'crypto'})\n",
    "data_test = data_test.rename(columns={'birth_year':'age', 'created_date': 'reg_days', 'user_settings_crypto_unlocked':'crypto'})\n",
    "\n",
    "plan_dict = {'STANDARD': 0, 'SILVER': 1, 'GOLD': 1}\n",
    "data['plan'] = data['plan'].replace(plan_dict)\n",
    "\n",
    "data['brand'] = data['brand'].apply(change_unknown_brand)\n",
    "data_test['brand'] = data_test['brand'].apply(change_unknown_brand)\n",
    "\n",
    "data = pd.get_dummies(data, columns=['brand'])\n",
    "data_test = pd.get_dummies(data_test,columns=['brand'])"
   ]
  },
  {
   "cell_type": "code",
   "execution_count": 7,
   "metadata": {
    "colab": {
     "base_uri": "https://localhost:8080/",
     "height": 402
    },
    "executionInfo": {
     "elapsed": 12301,
     "status": "ok",
     "timestamp": 1591810555177,
     "user": {
      "displayName": "Zisis Biloroglou",
      "photoUrl": "",
      "userId": "06989248455902026137"
     },
     "user_tz": -180
    },
    "id": "Ka8oZ2k4_CZZ",
    "outputId": "c6a270ab-79a3-4d21-ee27-03d1a90b38c8"
   },
   "outputs": [
    {
     "data": {
      "text/html": [
       "<div>\n",
       "<style scoped>\n",
       "    .dataframe tbody tr th:only-of-type {\n",
       "        vertical-align: middle;\n",
       "    }\n",
       "\n",
       "    .dataframe tbody tr th {\n",
       "        vertical-align: top;\n",
       "    }\n",
       "\n",
       "    .dataframe thead th {\n",
       "        text-align: right;\n",
       "    }\n",
       "</style>\n",
       "<table border=\"1\" class=\"dataframe\">\n",
       "  <thead>\n",
       "    <tr style=\"text-align: right;\">\n",
       "      <th></th>\n",
       "      <th>user_id</th>\n",
       "      <th>age</th>\n",
       "      <th>reg_days</th>\n",
       "      <th>crypto</th>\n",
       "      <th>plan</th>\n",
       "      <th>num_contacts</th>\n",
       "      <th>brand_Android</th>\n",
       "      <th>brand_Apple</th>\n",
       "    </tr>\n",
       "  </thead>\n",
       "  <tbody>\n",
       "    <tr>\n",
       "      <th>0</th>\n",
       "      <td>user_0</td>\n",
       "      <td>28</td>\n",
       "      <td>249</td>\n",
       "      <td>0</td>\n",
       "      <td>0</td>\n",
       "      <td>3</td>\n",
       "      <td>0</td>\n",
       "      <td>1</td>\n",
       "    </tr>\n",
       "    <tr>\n",
       "      <th>1</th>\n",
       "      <td>user_1</td>\n",
       "      <td>35</td>\n",
       "      <td>491</td>\n",
       "      <td>1</td>\n",
       "      <td>0</td>\n",
       "      <td>75</td>\n",
       "      <td>0</td>\n",
       "      <td>1</td>\n",
       "    </tr>\n",
       "    <tr>\n",
       "      <th>2</th>\n",
       "      <td>user_2</td>\n",
       "      <td>24</td>\n",
       "      <td>169</td>\n",
       "      <td>0</td>\n",
       "      <td>0</td>\n",
       "      <td>71</td>\n",
       "      <td>0</td>\n",
       "      <td>1</td>\n",
       "    </tr>\n",
       "    <tr>\n",
       "      <th>3</th>\n",
       "      <td>user_3</td>\n",
       "      <td>39</td>\n",
       "      <td>454</td>\n",
       "      <td>0</td>\n",
       "      <td>0</td>\n",
       "      <td>219</td>\n",
       "      <td>0</td>\n",
       "      <td>1</td>\n",
       "    </tr>\n",
       "    <tr>\n",
       "      <th>4</th>\n",
       "      <td>user_4</td>\n",
       "      <td>28</td>\n",
       "      <td>494</td>\n",
       "      <td>0</td>\n",
       "      <td>0</td>\n",
       "      <td>0</td>\n",
       "      <td>0</td>\n",
       "      <td>1</td>\n",
       "    </tr>\n",
       "    <tr>\n",
       "      <th>...</th>\n",
       "      <td>...</td>\n",
       "      <td>...</td>\n",
       "      <td>...</td>\n",
       "      <td>...</td>\n",
       "      <td>...</td>\n",
       "      <td>...</td>\n",
       "      <td>...</td>\n",
       "      <td>...</td>\n",
       "    </tr>\n",
       "    <tr>\n",
       "      <th>15539</th>\n",
       "      <td>user_15539</td>\n",
       "      <td>23</td>\n",
       "      <td>285</td>\n",
       "      <td>0</td>\n",
       "      <td>0</td>\n",
       "      <td>0</td>\n",
       "      <td>1</td>\n",
       "      <td>0</td>\n",
       "    </tr>\n",
       "    <tr>\n",
       "      <th>15540</th>\n",
       "      <td>user_15540</td>\n",
       "      <td>35</td>\n",
       "      <td>414</td>\n",
       "      <td>0</td>\n",
       "      <td>0</td>\n",
       "      <td>0</td>\n",
       "      <td>0</td>\n",
       "      <td>1</td>\n",
       "    </tr>\n",
       "    <tr>\n",
       "      <th>15541</th>\n",
       "      <td>user_15541</td>\n",
       "      <td>42</td>\n",
       "      <td>308</td>\n",
       "      <td>0</td>\n",
       "      <td>0</td>\n",
       "      <td>16</td>\n",
       "      <td>1</td>\n",
       "      <td>0</td>\n",
       "    </tr>\n",
       "    <tr>\n",
       "      <th>15542</th>\n",
       "      <td>user_15542</td>\n",
       "      <td>43</td>\n",
       "      <td>495</td>\n",
       "      <td>0</td>\n",
       "      <td>1</td>\n",
       "      <td>44</td>\n",
       "      <td>0</td>\n",
       "      <td>1</td>\n",
       "    </tr>\n",
       "    <tr>\n",
       "      <th>15543</th>\n",
       "      <td>user_15543</td>\n",
       "      <td>26</td>\n",
       "      <td>272</td>\n",
       "      <td>1</td>\n",
       "      <td>0</td>\n",
       "      <td>8</td>\n",
       "      <td>1</td>\n",
       "      <td>0</td>\n",
       "    </tr>\n",
       "  </tbody>\n",
       "</table>\n",
       "<p>15544 rows × 8 columns</p>\n",
       "</div>"
      ],
      "text/plain": [
       "          user_id  age  reg_days  crypto  plan  num_contacts  brand_Android  \\\n",
       "0          user_0   28       249       0     0             3              0   \n",
       "1          user_1   35       491       1     0            75              0   \n",
       "2          user_2   24       169       0     0            71              0   \n",
       "3          user_3   39       454       0     0           219              0   \n",
       "4          user_4   28       494       0     0             0              0   \n",
       "...           ...  ...       ...     ...   ...           ...            ...   \n",
       "15539  user_15539   23       285       0     0             0              1   \n",
       "15540  user_15540   35       414       0     0             0              0   \n",
       "15541  user_15541   42       308       0     0            16              1   \n",
       "15542  user_15542   43       495       0     1            44              0   \n",
       "15543  user_15543   26       272       1     0             8              1   \n",
       "\n",
       "       brand_Apple  \n",
       "0                1  \n",
       "1                1  \n",
       "2                1  \n",
       "3                1  \n",
       "4                1  \n",
       "...            ...  \n",
       "15539            0  \n",
       "15540            1  \n",
       "15541            0  \n",
       "15542            1  \n",
       "15543            0  \n",
       "\n",
       "[15544 rows x 8 columns]"
      ]
     },
     "execution_count": 7,
     "metadata": {},
     "output_type": "execute_result"
    }
   ],
   "source": [
    "data"
   ]
  },
  {
   "cell_type": "code",
   "execution_count": 8,
   "metadata": {
    "colab": {
     "base_uri": "https://localhost:8080/",
     "height": 50
    },
    "executionInfo": {
     "elapsed": 8744,
     "status": "ok",
     "timestamp": 1591810555179,
     "user": {
      "displayName": "Zisis Biloroglou",
      "photoUrl": "",
      "userId": "06989248455902026137"
     },
     "user_tz": -180
    },
    "id": "pL1-f7i9s5lb",
    "outputId": "62c24c08-71ac-4097-9100-8d562ebda31a"
   },
   "outputs": [
    {
     "data": {
      "text/plain": [
       "0    15544\n",
       "Name: num_successful_referrals, dtype: int64"
      ]
     },
     "execution_count": 8,
     "metadata": {},
     "output_type": "execute_result"
    }
   ],
   "source": [
    "users['num_successful_referrals'].value_counts() # All 0s"
   ]
  },
  {
   "cell_type": "code",
   "execution_count": 9,
   "metadata": {},
   "outputs": [
    {
     "name": "stdout",
     "output_type": "stream",
     "text": [
      "CARD_PAYMENT    1173661\n",
      "TRANSFER         402126\n",
      "TOPUP            309740\n",
      "EXCHANGE         124800\n",
      "ATM               74181\n",
      "CASHBACK          65063\n",
      "FEE               18786\n",
      "CARD_REFUND        9209\n",
      "TAX                2267\n",
      "REFUND             1193\n",
      "Name: transactions_type, dtype: int64\n",
      "\n",
      "CARD_PAYMENT    302119\n",
      "TRANSFER         98283\n",
      "TOPUP            78591\n",
      "EXCHANGE         34348\n",
      "ATM              19494\n",
      "CARD_REFUND       2753\n",
      "TAX                562\n",
      "REFUND             300\n",
      "Name: transactions_type, dtype: int64\n"
     ]
    }
   ],
   "source": [
    "print(transactions['transactions_type'].value_counts())\n",
    "print()\n",
    "print(transactions_test['transactions_type'].value_counts())\n",
    "\n",
    "# Cashback, Fee missing"
   ]
  },
  {
   "cell_type": "code",
   "execution_count": 10,
   "metadata": {
    "colab": {
     "base_uri": "https://localhost:8080/",
     "height": 286
    },
    "executionInfo": {
     "elapsed": 8064,
     "status": "ok",
     "timestamp": 1591810555181,
     "user": {
      "displayName": "Zisis Biloroglou",
      "photoUrl": "",
      "userId": "06989248455902026137"
     },
     "user_tz": -180
    },
    "id": "M4VkP_SRqh4x",
    "outputId": "641d3696-dbc5-48b2-d4c6-5b3e5ae8527f"
   },
   "outputs": [
    {
     "data": {
      "text/plain": [
       "REENGAGEMENT_ACTIVE_FUNDS            7012\n",
       "PROMO                                4756\n",
       "NO_INITIAL_CARD_USE                  2186\n",
       "NO_INITIAL_CARD_ORDER                2065\n",
       "INVEST_IN_GOLD                       1724\n",
       "LOST_CARD_ORDER                      1205\n",
       "PROMO_CARD_ORDER                     1101\n",
       "JOINING_ANNIVERSARY                   824\n",
       "ONBOARDING_TIPS_ACTIVATED_USERS       722\n",
       "MADE_MONEY_REQUEST_NOT_SPLIT_BILL     655\n",
       "ENGAGEMENT_SPLIT_BILL_RESTAURANT      464\n",
       "BLACK_FRIDAY                          428\n",
       "METAL_RESERVE_PLAN                    283\n",
       "WELCOME_BACK                          171\n",
       "BLUE_TUESDAY                          135\n",
       "Name: reason, dtype: int64"
      ]
     },
     "execution_count": 10,
     "metadata": {},
     "output_type": "execute_result"
    }
   ],
   "source": [
    "notifications_test['reason'].value_counts() # Silver missing"
   ]
  },
  {
   "cell_type": "code",
   "execution_count": 11,
   "metadata": {
    "colab": {
     "base_uri": "https://localhost:8080/",
     "height": 84
    },
    "executionInfo": {
     "elapsed": 5864,
     "status": "ok",
     "timestamp": 1591810555182,
     "user": {
      "displayName": "Zisis Biloroglou",
      "photoUrl": "",
      "userId": "06989248455902026137"
     },
     "user_tz": -180
    },
    "id": "EH3nzm4QqTi8",
    "outputId": "602127bb-22b2-4faa-aeb1-1adb56327200"
   },
   "outputs": [
    {
     "data": {
      "text/plain": [
       "Apple      1961\n",
       "Android    1914\n",
       "Unknown      11\n",
       "Name: brand, dtype: int64"
      ]
     },
     "execution_count": 11,
     "metadata": {},
     "output_type": "execute_result"
    }
   ],
   "source": [
    "devices_test['brand'].value_counts()"
   ]
  },
  {
   "cell_type": "code",
   "execution_count": 12,
   "metadata": {
    "colab": {
     "base_uri": "https://localhost:8080/",
     "height": 615
    },
    "executionInfo": {
     "elapsed": 6039,
     "status": "ok",
     "timestamp": 1591810555895,
     "user": {
      "displayName": "Zisis Biloroglou",
      "photoUrl": "",
      "userId": "06989248455902026137"
     },
     "user_tz": -180
    },
    "id": "f325TxATsOVr",
    "outputId": "51870afb-a3d0-481a-e9f3-8a8e1ed3bf46"
   },
   "outputs": [
    {
     "data": {
      "text/plain": [
       "<AxesSubplot:>"
      ]
     },
     "execution_count": 12,
     "metadata": {},
     "output_type": "execute_result"
    },
    {
     "data": {
      "image/png": "[encoded data removed]",
      "text/plain": [
       "<Figure size 1080x720 with 2 Axes>"
      ]
     },
     "metadata": {
      "needs_background": "light"
     },
     "output_type": "display_data"
    }
   ],
   "source": [
    "data_corr = data[['age','reg_days','crypto','plan','num_contacts','brand_Android','brand_Apple']].corr()\n",
    "mask = np.array(data_corr)\n",
    "mask[np.tril_indices_from(mask)] = False\n",
    "fig = plt.subplots(figsize=(15, 10))\n",
    "sns.heatmap(data_corr, mask=mask, vmax=1, square=True, annot=True, cmap=\"YlGnBu\")"
   ]
  },
  {
   "cell_type": "markdown",
   "metadata": {},
   "source": [
    "Notifications table modification"
   ]
  },
  {
   "cell_type": "code",
   "execution_count": 13,
   "metadata": {},
   "outputs": [],
   "source": [
    "notifications = notifications[['status','user_id']]\n",
    "notifications_test = notifications_test[['status','user_id']]\n",
    "\n",
    "notifications = notifications[~notifications['status'].isin(['FAILED'])]\n",
    "notifications_test = notifications_test[~notifications_test['status'].isin(['FAILED'])]\n",
    "\n",
    "notifications.drop(columns='status',inplace=True)\n",
    "notifications_test.drop(columns='status',inplace=True)\n",
    "\n",
    "notifications = notifications['user_id'].value_counts().rename_axis('user_id').reset_index(name='notif_counts')\n",
    "notifications_test = notifications_test['user_id'].value_counts().rename_axis('user_id').reset_index(name='notif_counts')"
   ]
  },
  {
   "cell_type": "code",
   "execution_count": 14,
   "metadata": {},
   "outputs": [
    {
     "data": {
      "text/html": [
       "<div>\n",
       "<style scoped>\n",
       "    .dataframe tbody tr th:only-of-type {\n",
       "        vertical-align: middle;\n",
       "    }\n",
       "\n",
       "    .dataframe tbody tr th {\n",
       "        vertical-align: top;\n",
       "    }\n",
       "\n",
       "    .dataframe thead th {\n",
       "        text-align: right;\n",
       "    }\n",
       "</style>\n",
       "<table border=\"1\" class=\"dataframe\">\n",
       "  <thead>\n",
       "    <tr style=\"text-align: right;\">\n",
       "      <th></th>\n",
       "      <th>user_id</th>\n",
       "      <th>notif_counts</th>\n",
       "    </tr>\n",
       "  </thead>\n",
       "  <tbody>\n",
       "    <tr>\n",
       "      <th>0</th>\n",
       "      <td>user_5529</td>\n",
       "      <td>20</td>\n",
       "    </tr>\n",
       "    <tr>\n",
       "      <th>1</th>\n",
       "      <td>user_5744</td>\n",
       "      <td>20</td>\n",
       "    </tr>\n",
       "    <tr>\n",
       "      <th>2</th>\n",
       "      <td>user_9196</td>\n",
       "      <td>17</td>\n",
       "    </tr>\n",
       "    <tr>\n",
       "      <th>3</th>\n",
       "      <td>user_8951</td>\n",
       "      <td>17</td>\n",
       "    </tr>\n",
       "    <tr>\n",
       "      <th>4</th>\n",
       "      <td>user_6038</td>\n",
       "      <td>17</td>\n",
       "    </tr>\n",
       "    <tr>\n",
       "      <th>...</th>\n",
       "      <td>...</td>\n",
       "      <td>...</td>\n",
       "    </tr>\n",
       "    <tr>\n",
       "      <th>14735</th>\n",
       "      <td>user_6177</td>\n",
       "      <td>1</td>\n",
       "    </tr>\n",
       "    <tr>\n",
       "      <th>14736</th>\n",
       "      <td>user_11945</td>\n",
       "      <td>1</td>\n",
       "    </tr>\n",
       "    <tr>\n",
       "      <th>14737</th>\n",
       "      <td>user_4660</td>\n",
       "      <td>1</td>\n",
       "    </tr>\n",
       "    <tr>\n",
       "      <th>14738</th>\n",
       "      <td>user_5815</td>\n",
       "      <td>1</td>\n",
       "    </tr>\n",
       "    <tr>\n",
       "      <th>14739</th>\n",
       "      <td>user_10136</td>\n",
       "      <td>1</td>\n",
       "    </tr>\n",
       "  </tbody>\n",
       "</table>\n",
       "<p>14740 rows × 2 columns</p>\n",
       "</div>"
      ],
      "text/plain": [
       "          user_id  notif_counts\n",
       "0       user_5529            20\n",
       "1       user_5744            20\n",
       "2       user_9196            17\n",
       "3       user_8951            17\n",
       "4       user_6038            17\n",
       "...           ...           ...\n",
       "14735   user_6177             1\n",
       "14736  user_11945             1\n",
       "14737   user_4660             1\n",
       "14738   user_5815             1\n",
       "14739  user_10136             1\n",
       "\n",
       "[14740 rows x 2 columns]"
      ]
     },
     "execution_count": 14,
     "metadata": {},
     "output_type": "execute_result"
    }
   ],
   "source": [
    "notifications"
   ]
  },
  {
   "cell_type": "markdown",
   "metadata": {},
   "source": [
    "Transactions table modification"
   ]
  },
  {
   "cell_type": "code",
   "execution_count": 15,
   "metadata": {},
   "outputs": [],
   "source": [
    "transactions = transactions[['user_id','amount_usd','transactions_state','direction', 'transactions_type']]\n",
    "transactions_test = transactions_test[['user_id','amount_usd','transactions_state','direction', 'transactions_type']]\n",
    "\n",
    "transactions = transactions[transactions['transactions_state'].isin(['COMPLETED'])]\n",
    "transactions_test = transactions_test[transactions_test['transactions_state'].isin(['COMPLETED'])]"
   ]
  },
  {
   "cell_type": "code",
   "execution_count": 16,
   "metadata": {
    "id": "bgn5wtslD7B7"
   },
   "outputs": [
    {
     "data": {
      "text/html": [
       "<div>\n",
       "<style scoped>\n",
       "    .dataframe tbody tr th:only-of-type {\n",
       "        vertical-align: middle;\n",
       "    }\n",
       "\n",
       "    .dataframe tbody tr th {\n",
       "        vertical-align: top;\n",
       "    }\n",
       "\n",
       "    .dataframe thead th {\n",
       "        text-align: right;\n",
       "    }\n",
       "</style>\n",
       "<table border=\"1\" class=\"dataframe\">\n",
       "  <thead>\n",
       "    <tr style=\"text-align: right;\">\n",
       "      <th>transactions_type</th>\n",
       "      <th>ATM</th>\n",
       "      <th>CARD_PAYMENT</th>\n",
       "      <th>CARD_REFUND</th>\n",
       "      <th>CASHBACK</th>\n",
       "      <th>EXCHANGE</th>\n",
       "      <th>FEE</th>\n",
       "      <th>REFUND</th>\n",
       "      <th>TAX</th>\n",
       "      <th>TOPUP</th>\n",
       "      <th>TRANSFER</th>\n",
       "    </tr>\n",
       "    <tr>\n",
       "      <th>user_id</th>\n",
       "      <th></th>\n",
       "      <th></th>\n",
       "      <th></th>\n",
       "      <th></th>\n",
       "      <th></th>\n",
       "      <th></th>\n",
       "      <th></th>\n",
       "      <th></th>\n",
       "      <th></th>\n",
       "      <th></th>\n",
       "    </tr>\n",
       "  </thead>\n",
       "  <tbody>\n",
       "    <tr>\n",
       "      <th>user_0</th>\n",
       "      <td>0</td>\n",
       "      <td>333</td>\n",
       "      <td>1</td>\n",
       "      <td>0</td>\n",
       "      <td>5</td>\n",
       "      <td>0</td>\n",
       "      <td>0</td>\n",
       "      <td>0</td>\n",
       "      <td>158</td>\n",
       "      <td>23</td>\n",
       "    </tr>\n",
       "    <tr>\n",
       "      <th>user_1</th>\n",
       "      <td>4</td>\n",
       "      <td>78</td>\n",
       "      <td>0</td>\n",
       "      <td>0</td>\n",
       "      <td>0</td>\n",
       "      <td>0</td>\n",
       "      <td>0</td>\n",
       "      <td>0</td>\n",
       "      <td>24</td>\n",
       "      <td>27</td>\n",
       "    </tr>\n",
       "    <tr>\n",
       "      <th>user_10</th>\n",
       "      <td>3</td>\n",
       "      <td>42</td>\n",
       "      <td>9</td>\n",
       "      <td>0</td>\n",
       "      <td>3</td>\n",
       "      <td>0</td>\n",
       "      <td>0</td>\n",
       "      <td>0</td>\n",
       "      <td>43</td>\n",
       "      <td>23</td>\n",
       "    </tr>\n",
       "    <tr>\n",
       "      <th>user_100</th>\n",
       "      <td>6</td>\n",
       "      <td>38</td>\n",
       "      <td>0</td>\n",
       "      <td>0</td>\n",
       "      <td>0</td>\n",
       "      <td>0</td>\n",
       "      <td>0</td>\n",
       "      <td>0</td>\n",
       "      <td>11</td>\n",
       "      <td>0</td>\n",
       "    </tr>\n",
       "    <tr>\n",
       "      <th>user_1000</th>\n",
       "      <td>1</td>\n",
       "      <td>16</td>\n",
       "      <td>0</td>\n",
       "      <td>16</td>\n",
       "      <td>0</td>\n",
       "      <td>2</td>\n",
       "      <td>0</td>\n",
       "      <td>0</td>\n",
       "      <td>7</td>\n",
       "      <td>1</td>\n",
       "    </tr>\n",
       "    <tr>\n",
       "      <th>...</th>\n",
       "      <td>...</td>\n",
       "      <td>...</td>\n",
       "      <td>...</td>\n",
       "      <td>...</td>\n",
       "      <td>...</td>\n",
       "      <td>...</td>\n",
       "      <td>...</td>\n",
       "      <td>...</td>\n",
       "      <td>...</td>\n",
       "      <td>...</td>\n",
       "    </tr>\n",
       "    <tr>\n",
       "      <th>user_9995</th>\n",
       "      <td>0</td>\n",
       "      <td>2</td>\n",
       "      <td>0</td>\n",
       "      <td>0</td>\n",
       "      <td>1</td>\n",
       "      <td>0</td>\n",
       "      <td>0</td>\n",
       "      <td>0</td>\n",
       "      <td>1</td>\n",
       "      <td>0</td>\n",
       "    </tr>\n",
       "    <tr>\n",
       "      <th>user_9996</th>\n",
       "      <td>1</td>\n",
       "      <td>20</td>\n",
       "      <td>0</td>\n",
       "      <td>0</td>\n",
       "      <td>5</td>\n",
       "      <td>1</td>\n",
       "      <td>0</td>\n",
       "      <td>0</td>\n",
       "      <td>4</td>\n",
       "      <td>0</td>\n",
       "    </tr>\n",
       "    <tr>\n",
       "      <th>user_9997</th>\n",
       "      <td>3</td>\n",
       "      <td>49</td>\n",
       "      <td>1</td>\n",
       "      <td>0</td>\n",
       "      <td>20</td>\n",
       "      <td>1</td>\n",
       "      <td>0</td>\n",
       "      <td>0</td>\n",
       "      <td>30</td>\n",
       "      <td>24</td>\n",
       "    </tr>\n",
       "    <tr>\n",
       "      <th>user_9998</th>\n",
       "      <td>1</td>\n",
       "      <td>9</td>\n",
       "      <td>0</td>\n",
       "      <td>0</td>\n",
       "      <td>7</td>\n",
       "      <td>0</td>\n",
       "      <td>0</td>\n",
       "      <td>0</td>\n",
       "      <td>9</td>\n",
       "      <td>4</td>\n",
       "    </tr>\n",
       "    <tr>\n",
       "      <th>user_9999</th>\n",
       "      <td>0</td>\n",
       "      <td>0</td>\n",
       "      <td>0</td>\n",
       "      <td>0</td>\n",
       "      <td>0</td>\n",
       "      <td>0</td>\n",
       "      <td>0</td>\n",
       "      <td>0</td>\n",
       "      <td>1</td>\n",
       "      <td>0</td>\n",
       "    </tr>\n",
       "  </tbody>\n",
       "</table>\n",
       "<p>14821 rows × 10 columns</p>\n",
       "</div>"
      ],
      "text/plain": [
       "transactions_type  ATM  CARD_PAYMENT  CARD_REFUND  CASHBACK  EXCHANGE  FEE  \\\n",
       "user_id                                                                      \n",
       "user_0               0           333            1         0         5    0   \n",
       "user_1               4            78            0         0         0    0   \n",
       "user_10              3            42            9         0         3    0   \n",
       "user_100             6            38            0         0         0    0   \n",
       "user_1000            1            16            0        16         0    2   \n",
       "...                ...           ...          ...       ...       ...  ...   \n",
       "user_9995            0             2            0         0         1    0   \n",
       "user_9996            1            20            0         0         5    1   \n",
       "user_9997            3            49            1         0        20    1   \n",
       "user_9998            1             9            0         0         7    0   \n",
       "user_9999            0             0            0         0         0    0   \n",
       "\n",
       "transactions_type  REFUND  TAX  TOPUP  TRANSFER  \n",
       "user_id                                          \n",
       "user_0                  0    0    158        23  \n",
       "user_1                  0    0     24        27  \n",
       "user_10                 0    0     43        23  \n",
       "user_100                0    0     11         0  \n",
       "user_1000               0    0      7         1  \n",
       "...                   ...  ...    ...       ...  \n",
       "user_9995               0    0      1         0  \n",
       "user_9996               0    0      4         0  \n",
       "user_9997               0    0     30        24  \n",
       "user_9998               0    0      9         4  \n",
       "user_9999               0    0      1         0  \n",
       "\n",
       "[14821 rows x 10 columns]"
      ]
     },
     "execution_count": 16,
     "metadata": {},
     "output_type": "execute_result"
    }
   ],
   "source": [
    "t1 = transactions.pivot_table(index='user_id', columns='transactions_type',aggfunc='size', fill_value=0)\n",
    "t1_test = transactions_test.pivot_table(index='user_id', columns='transactions_type',aggfunc='size', fill_value=0)\n",
    "\n",
    "t1"
   ]
  },
  {
   "cell_type": "code",
   "execution_count": 17,
   "metadata": {
    "id": "TCr8-WJynx48"
   },
   "outputs": [
    {
     "data": {
      "text/html": [
       "<div>\n",
       "<style scoped>\n",
       "    .dataframe tbody tr th:only-of-type {\n",
       "        vertical-align: middle;\n",
       "    }\n",
       "\n",
       "    .dataframe tbody tr th {\n",
       "        vertical-align: top;\n",
       "    }\n",
       "\n",
       "    .dataframe thead th {\n",
       "        text-align: right;\n",
       "    }\n",
       "</style>\n",
       "<table border=\"1\" class=\"dataframe\">\n",
       "  <thead>\n",
       "    <tr style=\"text-align: right;\">\n",
       "      <th>direction</th>\n",
       "      <th>INBOUND</th>\n",
       "      <th>OUTBOUND</th>\n",
       "    </tr>\n",
       "    <tr>\n",
       "      <th>user_id</th>\n",
       "      <th></th>\n",
       "      <th></th>\n",
       "    </tr>\n",
       "  </thead>\n",
       "  <tbody>\n",
       "    <tr>\n",
       "      <th>user_0</th>\n",
       "      <td>3295.33</td>\n",
       "      <td>3629.75</td>\n",
       "    </tr>\n",
       "    <tr>\n",
       "      <th>user_1</th>\n",
       "      <td>6465.51</td>\n",
       "      <td>6490.03</td>\n",
       "    </tr>\n",
       "    <tr>\n",
       "      <th>user_10</th>\n",
       "      <td>2750.01</td>\n",
       "      <td>2688.91</td>\n",
       "    </tr>\n",
       "    <tr>\n",
       "      <th>user_100</th>\n",
       "      <td>2119.16</td>\n",
       "      <td>2110.94</td>\n",
       "    </tr>\n",
       "    <tr>\n",
       "      <th>user_1000</th>\n",
       "      <td>429.20</td>\n",
       "      <td>413.92</td>\n",
       "    </tr>\n",
       "    <tr>\n",
       "      <th>...</th>\n",
       "      <td>...</td>\n",
       "      <td>...</td>\n",
       "    </tr>\n",
       "    <tr>\n",
       "      <th>user_9995</th>\n",
       "      <td>52.49</td>\n",
       "      <td>187.36</td>\n",
       "    </tr>\n",
       "    <tr>\n",
       "      <th>user_9996</th>\n",
       "      <td>680.00</td>\n",
       "      <td>1001.76</td>\n",
       "    </tr>\n",
       "    <tr>\n",
       "      <th>user_9997</th>\n",
       "      <td>3338.02</td>\n",
       "      <td>4312.51</td>\n",
       "    </tr>\n",
       "    <tr>\n",
       "      <th>user_9998</th>\n",
       "      <td>186.48</td>\n",
       "      <td>334.24</td>\n",
       "    </tr>\n",
       "    <tr>\n",
       "      <th>user_9999</th>\n",
       "      <td>8.51</td>\n",
       "      <td>NaN</td>\n",
       "    </tr>\n",
       "  </tbody>\n",
       "</table>\n",
       "<p>14821 rows × 2 columns</p>\n",
       "</div>"
      ],
      "text/plain": [
       "direction  INBOUND  OUTBOUND\n",
       "user_id                     \n",
       "user_0     3295.33   3629.75\n",
       "user_1     6465.51   6490.03\n",
       "user_10    2750.01   2688.91\n",
       "user_100   2119.16   2110.94\n",
       "user_1000   429.20    413.92\n",
       "...            ...       ...\n",
       "user_9995    52.49    187.36\n",
       "user_9996   680.00   1001.76\n",
       "user_9997  3338.02   4312.51\n",
       "user_9998   186.48    334.24\n",
       "user_9999     8.51       NaN\n",
       "\n",
       "[14821 rows x 2 columns]"
      ]
     },
     "execution_count": 17,
     "metadata": {},
     "output_type": "execute_result"
    }
   ],
   "source": [
    "t2 = transactions.groupby(by=['user_id', 'direction'], as_index=False)['amount_usd'].sum()\n",
    "t2_test = transactions_test.groupby(by=['user_id', 'direction'], as_index=False)['amount_usd'].sum()\n",
    "\n",
    "t2 = t2.pivot(index='user_id', columns='direction', values='amount_usd')\n",
    "t2_test = t2_test.pivot(index='user_id', columns='direction', values='amount_usd')\n",
    "\n",
    "t2"
   ]
  },
  {
   "cell_type": "code",
   "execution_count": 18,
   "metadata": {
    "id": "5lUo_7x7FXfR"
   },
   "outputs": [],
   "source": [
    "t1['user_id'] = t1.index\n",
    "t1_test['user_id'] = t1_test.index\n",
    "t2['user_id'] = t2.index\n",
    "t2_test['user_id'] = t2_test.index\n",
    "\n",
    "t1.reset_index(drop=True, inplace=True)\n",
    "t1_test.reset_index(drop = True, inplace=True)\n",
    "t2.reset_index(drop=True, inplace=True)\n",
    "t2_test.reset_index(drop=True, inplace=True)"
   ]
  },
  {
   "cell_type": "code",
   "execution_count": 19,
   "metadata": {
    "id": "ntqVRLfyEq98"
   },
   "outputs": [],
   "source": [
    "transactions = t1.merge(t2, on = 'user_id')\n",
    "transactions_test = t1_test.merge(t2_test, on = 'user_id')\n",
    "\n",
    "transactions = transactions.drop(columns=['CASHBACK','FEE'])"
   ]
  },
  {
   "cell_type": "code",
   "execution_count": 20,
   "metadata": {
    "id": "V2_1WTwOtixr"
   },
   "outputs": [],
   "source": [
    "data = data.set_index('user_id').join(transactions.set_index('user_id'))\n",
    "data['user_id'] = data.index\n",
    "data.reset_index(drop=True, inplace=True)\n",
    "data = data.set_index('user_id').join(notifications.set_index('user_id'))\n",
    "\n",
    "data_test = data_test.set_index('user_id').join(transactions_test.set_index('user_id'))\n",
    "data_test['user_id'] = data_test.index\n",
    "data_test.reset_index(drop=True, inplace=True)\n",
    "data_test = data_test.set_index('user_id').join(notifications_test.set_index('user_id'))"
   ]
  },
  {
   "cell_type": "code",
   "execution_count": 21,
   "metadata": {
    "id": "Er-0aFgCAK9T"
   },
   "outputs": [],
   "source": [
    "data.fillna(0, inplace=True)\n",
    "data_test.fillna(0, inplace= True)"
   ]
  },
  {
   "cell_type": "code",
   "execution_count": 22,
   "metadata": {},
   "outputs": [
    {
     "data": {
      "text/html": [
       "<div>\n",
       "<style scoped>\n",
       "    .dataframe tbody tr th:only-of-type {\n",
       "        vertical-align: middle;\n",
       "    }\n",
       "\n",
       "    .dataframe tbody tr th {\n",
       "        vertical-align: top;\n",
       "    }\n",
       "\n",
       "    .dataframe thead th {\n",
       "        text-align: right;\n",
       "    }\n",
       "</style>\n",
       "<table border=\"1\" class=\"dataframe\">\n",
       "  <thead>\n",
       "    <tr style=\"text-align: right;\">\n",
       "      <th></th>\n",
       "      <th>age</th>\n",
       "      <th>reg_days</th>\n",
       "      <th>crypto</th>\n",
       "      <th>plan</th>\n",
       "      <th>num_contacts</th>\n",
       "      <th>brand_Android</th>\n",
       "      <th>brand_Apple</th>\n",
       "      <th>ATM</th>\n",
       "      <th>CARD_PAYMENT</th>\n",
       "      <th>CARD_REFUND</th>\n",
       "      <th>EXCHANGE</th>\n",
       "      <th>REFUND</th>\n",
       "      <th>TAX</th>\n",
       "      <th>TOPUP</th>\n",
       "      <th>TRANSFER</th>\n",
       "      <th>INBOUND</th>\n",
       "      <th>OUTBOUND</th>\n",
       "      <th>notif_counts</th>\n",
       "    </tr>\n",
       "    <tr>\n",
       "      <th>user_id</th>\n",
       "      <th></th>\n",
       "      <th></th>\n",
       "      <th></th>\n",
       "      <th></th>\n",
       "      <th></th>\n",
       "      <th></th>\n",
       "      <th></th>\n",
       "      <th></th>\n",
       "      <th></th>\n",
       "      <th></th>\n",
       "      <th></th>\n",
       "      <th></th>\n",
       "      <th></th>\n",
       "      <th></th>\n",
       "      <th></th>\n",
       "      <th></th>\n",
       "      <th></th>\n",
       "      <th></th>\n",
       "    </tr>\n",
       "  </thead>\n",
       "  <tbody>\n",
       "    <tr>\n",
       "      <th>user_0</th>\n",
       "      <td>28</td>\n",
       "      <td>249</td>\n",
       "      <td>0</td>\n",
       "      <td>0</td>\n",
       "      <td>3</td>\n",
       "      <td>0</td>\n",
       "      <td>1</td>\n",
       "      <td>0.0</td>\n",
       "      <td>333.0</td>\n",
       "      <td>1.0</td>\n",
       "      <td>5.0</td>\n",
       "      <td>0.0</td>\n",
       "      <td>0.0</td>\n",
       "      <td>158.0</td>\n",
       "      <td>23.0</td>\n",
       "      <td>3295.33</td>\n",
       "      <td>3629.75</td>\n",
       "      <td>8.0</td>\n",
       "    </tr>\n",
       "    <tr>\n",
       "      <th>user_1</th>\n",
       "      <td>35</td>\n",
       "      <td>491</td>\n",
       "      <td>1</td>\n",
       "      <td>0</td>\n",
       "      <td>75</td>\n",
       "      <td>0</td>\n",
       "      <td>1</td>\n",
       "      <td>4.0</td>\n",
       "      <td>78.0</td>\n",
       "      <td>0.0</td>\n",
       "      <td>0.0</td>\n",
       "      <td>0.0</td>\n",
       "      <td>0.0</td>\n",
       "      <td>24.0</td>\n",
       "      <td>27.0</td>\n",
       "      <td>6465.51</td>\n",
       "      <td>6490.03</td>\n",
       "      <td>10.0</td>\n",
       "    </tr>\n",
       "    <tr>\n",
       "      <th>user_2</th>\n",
       "      <td>24</td>\n",
       "      <td>169</td>\n",
       "      <td>0</td>\n",
       "      <td>0</td>\n",
       "      <td>71</td>\n",
       "      <td>0</td>\n",
       "      <td>1</td>\n",
       "      <td>0.0</td>\n",
       "      <td>97.0</td>\n",
       "      <td>0.0</td>\n",
       "      <td>0.0</td>\n",
       "      <td>0.0</td>\n",
       "      <td>0.0</td>\n",
       "      <td>37.0</td>\n",
       "      <td>134.0</td>\n",
       "      <td>1171.06</td>\n",
       "      <td>1552.84</td>\n",
       "      <td>5.0</td>\n",
       "    </tr>\n",
       "    <tr>\n",
       "      <th>user_3</th>\n",
       "      <td>39</td>\n",
       "      <td>454</td>\n",
       "      <td>0</td>\n",
       "      <td>0</td>\n",
       "      <td>219</td>\n",
       "      <td>0</td>\n",
       "      <td>1</td>\n",
       "      <td>0.0</td>\n",
       "      <td>120.0</td>\n",
       "      <td>0.0</td>\n",
       "      <td>0.0</td>\n",
       "      <td>0.0</td>\n",
       "      <td>0.0</td>\n",
       "      <td>13.0</td>\n",
       "      <td>7.0</td>\n",
       "      <td>3472.34</td>\n",
       "      <td>3526.95</td>\n",
       "      <td>6.0</td>\n",
       "    </tr>\n",
       "    <tr>\n",
       "      <th>user_4</th>\n",
       "      <td>28</td>\n",
       "      <td>494</td>\n",
       "      <td>0</td>\n",
       "      <td>0</td>\n",
       "      <td>0</td>\n",
       "      <td>0</td>\n",
       "      <td>1</td>\n",
       "      <td>0.0</td>\n",
       "      <td>37.0</td>\n",
       "      <td>1.0</td>\n",
       "      <td>4.0</td>\n",
       "      <td>0.0</td>\n",
       "      <td>0.0</td>\n",
       "      <td>8.0</td>\n",
       "      <td>0.0</td>\n",
       "      <td>420.06</td>\n",
       "      <td>561.37</td>\n",
       "      <td>7.0</td>\n",
       "    </tr>\n",
       "    <tr>\n",
       "      <th>...</th>\n",
       "      <td>...</td>\n",
       "      <td>...</td>\n",
       "      <td>...</td>\n",
       "      <td>...</td>\n",
       "      <td>...</td>\n",
       "      <td>...</td>\n",
       "      <td>...</td>\n",
       "      <td>...</td>\n",
       "      <td>...</td>\n",
       "      <td>...</td>\n",
       "      <td>...</td>\n",
       "      <td>...</td>\n",
       "      <td>...</td>\n",
       "      <td>...</td>\n",
       "      <td>...</td>\n",
       "      <td>...</td>\n",
       "      <td>...</td>\n",
       "      <td>...</td>\n",
       "    </tr>\n",
       "    <tr>\n",
       "      <th>user_15539</th>\n",
       "      <td>23</td>\n",
       "      <td>285</td>\n",
       "      <td>0</td>\n",
       "      <td>0</td>\n",
       "      <td>0</td>\n",
       "      <td>1</td>\n",
       "      <td>0</td>\n",
       "      <td>1.0</td>\n",
       "      <td>42.0</td>\n",
       "      <td>1.0</td>\n",
       "      <td>13.0</td>\n",
       "      <td>0.0</td>\n",
       "      <td>0.0</td>\n",
       "      <td>32.0</td>\n",
       "      <td>1.0</td>\n",
       "      <td>1700.32</td>\n",
       "      <td>2574.63</td>\n",
       "      <td>3.0</td>\n",
       "    </tr>\n",
       "    <tr>\n",
       "      <th>user_15540</th>\n",
       "      <td>35</td>\n",
       "      <td>414</td>\n",
       "      <td>0</td>\n",
       "      <td>0</td>\n",
       "      <td>0</td>\n",
       "      <td>0</td>\n",
       "      <td>1</td>\n",
       "      <td>0.0</td>\n",
       "      <td>4.0</td>\n",
       "      <td>1.0</td>\n",
       "      <td>0.0</td>\n",
       "      <td>0.0</td>\n",
       "      <td>0.0</td>\n",
       "      <td>3.0</td>\n",
       "      <td>1.0</td>\n",
       "      <td>48.55</td>\n",
       "      <td>48.55</td>\n",
       "      <td>0.0</td>\n",
       "    </tr>\n",
       "    <tr>\n",
       "      <th>user_15541</th>\n",
       "      <td>42</td>\n",
       "      <td>308</td>\n",
       "      <td>0</td>\n",
       "      <td>0</td>\n",
       "      <td>16</td>\n",
       "      <td>1</td>\n",
       "      <td>0</td>\n",
       "      <td>0.0</td>\n",
       "      <td>534.0</td>\n",
       "      <td>0.0</td>\n",
       "      <td>5.0</td>\n",
       "      <td>0.0</td>\n",
       "      <td>0.0</td>\n",
       "      <td>77.0</td>\n",
       "      <td>445.0</td>\n",
       "      <td>8858.65</td>\n",
       "      <td>8863.01</td>\n",
       "      <td>4.0</td>\n",
       "    </tr>\n",
       "    <tr>\n",
       "      <th>user_15542</th>\n",
       "      <td>43</td>\n",
       "      <td>495</td>\n",
       "      <td>0</td>\n",
       "      <td>1</td>\n",
       "      <td>44</td>\n",
       "      <td>0</td>\n",
       "      <td>1</td>\n",
       "      <td>0.0</td>\n",
       "      <td>7.0</td>\n",
       "      <td>0.0</td>\n",
       "      <td>0.0</td>\n",
       "      <td>0.0</td>\n",
       "      <td>0.0</td>\n",
       "      <td>3.0</td>\n",
       "      <td>2.0</td>\n",
       "      <td>212.85</td>\n",
       "      <td>195.87</td>\n",
       "      <td>3.0</td>\n",
       "    </tr>\n",
       "    <tr>\n",
       "      <th>user_15543</th>\n",
       "      <td>26</td>\n",
       "      <td>272</td>\n",
       "      <td>1</td>\n",
       "      <td>0</td>\n",
       "      <td>8</td>\n",
       "      <td>1</td>\n",
       "      <td>0</td>\n",
       "      <td>0.0</td>\n",
       "      <td>195.0</td>\n",
       "      <td>0.0</td>\n",
       "      <td>0.0</td>\n",
       "      <td>0.0</td>\n",
       "      <td>0.0</td>\n",
       "      <td>41.0</td>\n",
       "      <td>201.0</td>\n",
       "      <td>1240.00</td>\n",
       "      <td>1413.80</td>\n",
       "      <td>7.0</td>\n",
       "    </tr>\n",
       "  </tbody>\n",
       "</table>\n",
       "<p>15544 rows × 18 columns</p>\n",
       "</div>"
      ],
      "text/plain": [
       "            age  reg_days  crypto  plan  num_contacts  brand_Android  \\\n",
       "user_id                                                                \n",
       "user_0       28       249       0     0             3              0   \n",
       "user_1       35       491       1     0            75              0   \n",
       "user_2       24       169       0     0            71              0   \n",
       "user_3       39       454       0     0           219              0   \n",
       "user_4       28       494       0     0             0              0   \n",
       "...         ...       ...     ...   ...           ...            ...   \n",
       "user_15539   23       285       0     0             0              1   \n",
       "user_15540   35       414       0     0             0              0   \n",
       "user_15541   42       308       0     0            16              1   \n",
       "user_15542   43       495       0     1            44              0   \n",
       "user_15543   26       272       1     0             8              1   \n",
       "\n",
       "            brand_Apple  ATM  CARD_PAYMENT  CARD_REFUND  EXCHANGE  REFUND  \\\n",
       "user_id                                                                     \n",
       "user_0                1  0.0         333.0          1.0       5.0     0.0   \n",
       "user_1                1  4.0          78.0          0.0       0.0     0.0   \n",
       "user_2                1  0.0          97.0          0.0       0.0     0.0   \n",
       "user_3                1  0.0         120.0          0.0       0.0     0.0   \n",
       "user_4                1  0.0          37.0          1.0       4.0     0.0   \n",
       "...                 ...  ...           ...          ...       ...     ...   \n",
       "user_15539            0  1.0          42.0          1.0      13.0     0.0   \n",
       "user_15540            1  0.0           4.0          1.0       0.0     0.0   \n",
       "user_15541            0  0.0         534.0          0.0       5.0     0.0   \n",
       "user_15542            1  0.0           7.0          0.0       0.0     0.0   \n",
       "user_15543            0  0.0         195.0          0.0       0.0     0.0   \n",
       "\n",
       "            TAX  TOPUP  TRANSFER  INBOUND  OUTBOUND  notif_counts  \n",
       "user_id                                                            \n",
       "user_0      0.0  158.0      23.0  3295.33   3629.75           8.0  \n",
       "user_1      0.0   24.0      27.0  6465.51   6490.03          10.0  \n",
       "user_2      0.0   37.0     134.0  1171.06   1552.84           5.0  \n",
       "user_3      0.0   13.0       7.0  3472.34   3526.95           6.0  \n",
       "user_4      0.0    8.0       0.0   420.06    561.37           7.0  \n",
       "...         ...    ...       ...      ...       ...           ...  \n",
       "user_15539  0.0   32.0       1.0  1700.32   2574.63           3.0  \n",
       "user_15540  0.0    3.0       1.0    48.55     48.55           0.0  \n",
       "user_15541  0.0   77.0     445.0  8858.65   8863.01           4.0  \n",
       "user_15542  0.0    3.0       2.0   212.85    195.87           3.0  \n",
       "user_15543  0.0   41.0     201.0  1240.00   1413.80           7.0  \n",
       "\n",
       "[15544 rows x 18 columns]"
      ]
     },
     "execution_count": 22,
     "metadata": {},
     "output_type": "execute_result"
    }
   ],
   "source": [
    "data"
   ]
  },
  {
   "cell_type": "markdown",
   "metadata": {
    "id": "irmoRQziHA6V"
   },
   "source": [
    "### Machine Learning Algorithms"
   ]
  },
  {
   "cell_type": "code",
   "execution_count": 23,
   "metadata": {
    "id": "tM8g-FdxI_WU"
   },
   "outputs": [],
   "source": [
    "from sklearn.model_selection import train_test_split\n",
    "\n",
    "X = data.drop(columns=['plan']).values\n",
    "y = data['plan'].values\n",
    "\n",
    "X_train, X_test, y_train, y_test = train_test_split(X, y, test_size=0.1, stratify=y)"
   ]
  },
  {
   "cell_type": "code",
   "execution_count": 24,
   "metadata": {
    "id": "Q8mWE91jI_WY"
   },
   "outputs": [],
   "source": [
    "from sklearn.feature_selection import VarianceThreshold\n",
    "\n",
    "var = VarianceThreshold()"
   ]
  },
  {
   "cell_type": "code",
   "execution_count": 25,
   "metadata": {
    "id": "-TH3_yq3I_Wa"
   },
   "outputs": [],
   "source": [
    "from sklearn.preprocessing import StandardScaler\n",
    "\n",
    "sc = StandardScaler()"
   ]
  },
  {
   "cell_type": "code",
   "execution_count": 26,
   "metadata": {
    "id": "f4ENTnmqI_Wd"
   },
   "outputs": [],
   "source": [
    "from imblearn.over_sampling import SMOTE\n",
    "from imblearn.pipeline import Pipeline\n",
    "\n",
    "sampler = SMOTE()"
   ]
  },
  {
   "cell_type": "code",
   "execution_count": 27,
   "metadata": {
    "id": "h4i9_F3URUE3"
   },
   "outputs": [],
   "source": [
    "X_columns = data.drop(columns=['plan']).columns"
   ]
  },
  {
   "cell_type": "code",
   "execution_count": 28,
   "metadata": {
    "colab": {
     "base_uri": "https://localhost:8080/",
     "height": 84
    },
    "executionInfo": {
     "elapsed": 24884,
     "status": "ok",
     "timestamp": 1591796816314,
     "user": {
      "displayName": "Zisis Biloroglou",
      "photoUrl": "",
      "userId": "06989248455902026137"
     },
     "user_tz": -180
    },
    "id": "9w5C--Nef3Jg",
    "outputId": "47fe30e0-090c-43be-ad5b-78b47c4df253"
   },
   "outputs": [
    {
     "data": {
      "text/plain": [
       "array([0.06756789, 0.08479254, 0.04750746, 0.05951747, 0.01118078,\n",
       "       0.01086813, 0.06005225, 0.0797716 , 0.02082246, 0.04686302,\n",
       "       0.03488253, 0.00511034, 0.06760735, 0.06520155, 0.13856174,\n",
       "       0.1358059 , 0.06388699])"
      ]
     },
     "execution_count": 28,
     "metadata": {},
     "output_type": "execute_result"
    }
   ],
   "source": [
    "rf = RandomForestClassifier(n_estimators=250, n_jobs=-1)\n",
    "rf.fit(X_train, y_train)\n",
    "rf.feature_importances_"
   ]
  },
  {
   "cell_type": "code",
   "execution_count": 29,
   "metadata": {
    "colab": {
     "base_uri": "https://localhost:8080/",
     "height": 302
    },
    "executionInfo": {
     "elapsed": 24868,
     "status": "ok",
     "timestamp": 1591796816316,
     "user": {
      "displayName": "Zisis Biloroglou",
      "photoUrl": "",
      "userId": "06989248455902026137"
     },
     "user_tz": -180
    },
    "id": "kHRMe-6dgHCI",
    "outputId": "44edf7cc-7c9e-42a1-8b63-693732819caf"
   },
   "outputs": [
    {
     "name": "stdout",
     "output_type": "stream",
     "text": [
      "INBOUND             : 0.138561735992858\n",
      "OUTBOUND            : 0.13580590226945125\n",
      "reg_days            : 0.08479253564563723\n",
      "CARD_PAYMENT        : 0.07977160183594606\n",
      "TOPUP               : 0.06760735438494288\n",
      "age                 : 0.06756788709006531\n",
      "TRANSFER            : 0.0652015466324367\n",
      "notif_counts        : 0.06388698749498474\n",
      "ATM                 : 0.060052249275179735\n",
      "num_contacts        : 0.059517472219801616\n",
      "crypto              : 0.047507457814747724\n",
      "EXCHANGE            : 0.04686302423351264\n",
      "REFUND              : 0.03488253170118606\n",
      "CARD_REFUND         : 0.02082246379483067\n",
      "brand_Android       : 0.01118078415962284\n",
      "brand_Apple         : 0.010868127653195725\n",
      "TAX                 : 0.005110337801600883\n"
     ]
    }
   ],
   "source": [
    "for c, imp in sorted(zip(X_columns, rf.feature_importances_), key=lambda pair: pair[1], reverse=True):\n",
    "  print('{:20}: {}'.format(c, imp))"
   ]
  },
  {
   "cell_type": "code",
   "execution_count": 32,
   "metadata": {},
   "outputs": [
    {
     "data": {
      "text/plain": [
       "dict_keys(['bootstrap', 'ccp_alpha', 'class_weight', 'criterion', 'max_depth', 'max_features', 'max_leaf_nodes', 'max_samples', 'min_impurity_decrease', 'min_impurity_split', 'min_samples_leaf', 'min_samples_split', 'min_weight_fraction_leaf', 'n_estimators', 'n_jobs', 'oob_score', 'random_state', 'verbose', 'warm_start'])"
      ]
     },
     "execution_count": 32,
     "metadata": {},
     "output_type": "execute_result"
    }
   ],
   "source": [
    "RandomForestClassifier().get_params().keys()"
   ]
  },
  {
   "cell_type": "code",
   "execution_count": 33,
   "metadata": {
    "colab": {
     "base_uri": "https://localhost:8080/",
     "height": 67
    },
    "executionInfo": {
     "elapsed": 207786,
     "status": "ok",
     "timestamp": 1591793247962,
     "user": {
      "displayName": "Zisis Biloroglou",
      "photoUrl": "",
      "userId": "06989248455902026137"
     },
     "user_tz": -180
    },
    "id": "oxWxMcLeI_Wj",
    "outputId": "4b9d243c-c1bf-4706-e99f-bfb050b977a0"
   },
   "outputs": [
    {
     "name": "stdout",
     "output_type": "stream",
     "text": [
      "Fitting 5 folds for each of 1 candidates, totalling 5 fits\n"
     ]
    },
    {
     "data": {
      "text/plain": [
       "GridSearchCV(cv=5,\n",
       "             estimator=Pipeline(steps=[('scaler', StandardScaler()),\n",
       "                                       ('selector', VarianceThreshold()),\n",
       "                                       ('sampler', SMOTE()),\n",
       "                                       ('model', RandomForestClassifier())]),\n",
       "             n_jobs=-1,\n",
       "             param_grid={'model__class_weight': ['balanced'],\n",
       "                         'model__criterion': ['entropy'],\n",
       "                         'model__n_estimators': [300],\n",
       "                         'selector__threshold': [0.8]},\n",
       "             scoring='f1_macro', verbose=3)"
      ]
     },
     "execution_count": 33,
     "metadata": {},
     "output_type": "execute_result"
    }
   ],
   "source": [
    "from sklearn.ensemble import RandomForestClassifier\n",
    "from sklearn.linear_model import LogisticRegression\n",
    "from sklearn.model_selection import GridSearchCV\n",
    "from sklearn.neural_network import MLPClassifier\n",
    "from sklearn.metrics import f1_score\n",
    "from sklearn.ensemble import GradientBoostingClassifier\n",
    "from sklearn.discriminant_analysis import QuadraticDiscriminantAnalysis\n",
    "\n",
    "\n",
    "#rf = QuadraticDiscriminantAnalysis()\n",
    "#rf = GradientBoostingClassifier()\n",
    "rf = RandomForestClassifier()\n",
    "#rf = LogisticRegression()\n",
    "#rf = MLPClassifier()\n",
    "\n",
    "\n",
    "pipe1 = Pipeline([('scaler', sc),\n",
    "                  ('selector', var),\n",
    "                  ('sampler', sampler),\n",
    "                  ('model', rf)])\n",
    "\n",
    "\n",
    "'''\n",
    "grid1 = {'model__hidden_layer_sizes': [(1024,256,1024,256)],\n",
    "         'model__activation': [\"relu\"]}\n",
    "'''\n",
    "\n",
    "'''\n",
    "grid1= {'selector__threshold': [0.2],\n",
    "        'model__tol': [0.001],\n",
    "        'model__class_weight':[{1: w} for w in [1]], #Logistic Regression\n",
    "        'model__solver':['liblinear'],\n",
    "        'model__multi_class':['auto'],\n",
    "        'model__penalty': ['l1', 'l2', 'elasticnet'],\n",
    "        'model__max_iter': [100, 200,]}\n",
    "'''\n",
    "\n",
    "\n",
    "grid1 = {'selector__threshold': [0.8],   \n",
    "         'model__n_estimators': [300],\n",
    "         'model__criterion': ['entropy'],\n",
    "         'model__class_weight': ['balanced']}  #Random Forest\n",
    "\n",
    "\n",
    "'''\n",
    "grid1 = {'selector__threshold': [0.4, 0.8],\n",
    "         'model__learning_rate': [1, 0.1, 0.01],\n",
    "         'model__n_estimators': [100, 200, 300],\n",
    "         'model__criterion': ['friedman_mse', 'mse', 'mae'],\n",
    "         'model__max_depth': [3, 5, 7]}\n",
    "'''\n",
    "    \n",
    "#cv=[(slice(None), slice(None))]\n",
    "clf = GridSearchCV(pipe1, grid1, scoring='f1_macro', verbose = 3, n_jobs = -1, cv = 5)\n",
    "clf.fit(X_train, y_train)\n"
   ]
  },
  {
   "cell_type": "code",
   "execution_count": 39,
   "metadata": {
    "colab": {
     "base_uri": "https://localhost:8080/",
     "height": 202
    },
    "executionInfo": {
     "elapsed": 591,
     "status": "ok",
     "timestamp": 1591797953933,
     "user": {
      "displayName": "Zisis Biloroglou",
      "photoUrl": "",
      "userId": "06989248455902026137"
     },
     "user_tz": -180
    },
    "id": "H7sXDE-cI_Wn",
    "outputId": "fe6fca99-3f67-463c-85fe-5b52b9df0df6"
   },
   "outputs": [
    {
     "name": "stdout",
     "output_type": "stream",
     "text": [
      "{'model__class_weight': 'balanced', 'model__criterion': 'entropy', 'model__n_estimators': 300, 'selector__threshold': 0.8} \n",
      "\n",
      "              precision    recall  f1-score   support\n",
      "\n",
      "           0       0.96      0.95      0.96      1440\n",
      "           1       0.45      0.47      0.46       115\n",
      "\n",
      "    accuracy                           0.92      1555\n",
      "   macro avg       0.70      0.71      0.71      1555\n",
      "weighted avg       0.92      0.92      0.92      1555\n",
      "\n"
     ]
    }
   ],
   "source": [
    "from sklearn.metrics import classification_report\n",
    "print(clf.best_params_, '\\n')\n",
    "\n",
    "preds = clf.predict(X_test)\n",
    "clr = classification_report(y_test, preds)\n",
    "print(clr)\n",
    "result = clf.predict(data_test)\n"
   ]
  },
  {
   "cell_type": "code",
   "execution_count": 50,
   "metadata": {},
   "outputs": [
    {
     "data": {
      "text/plain": [
       "<AxesSubplot:>"
      ]
     },
     "execution_count": 50,
     "metadata": {},
     "output_type": "execute_result"
    },
    {
     "data": {
      "image/png": "[encoded data removed]",
      "text/plain": [
       "<Figure size 432x288 with 2 Axes>"
      ]
     },
     "metadata": {
      "needs_background": "light"
     },
     "output_type": "display_data"
    }
   ],
   "source": [
    "true = y_test\n",
    "pred = preds\n",
    "labels = np.arange(2)\n",
    "target_names = ['STANDARD', 'PAID']\n",
    "\n",
    "clf_report = classification_report(true,\n",
    "                                   pred,\n",
    "                                   labels=labels,\n",
    "                                   target_names=target_names,\n",
    "                                   output_dict=True)\n",
    "\n",
    "# .iloc[:-1, :] to exclude support\n",
    "sns.heatmap(pd.DataFrame(clf_report).iloc[:-1, :].T, annot=True, cmap=\"YlGnBu\")"
   ]
  },
  {
   "cell_type": "code",
   "execution_count": 51,
   "metadata": {
    "id": "wghtpA0LKtiy"
   },
   "outputs": [
    {
     "data": {
      "text/plain": [
       "0       0\n",
       "1       0\n",
       "2       0\n",
       "3       0\n",
       "4       0\n",
       "       ..\n",
       "3881    1\n",
       "3882    1\n",
       "3883    0\n",
       "3884    1\n",
       "3885    0\n",
       "Length: 3886, dtype: int64"
      ]
     },
     "execution_count": 51,
     "metadata": {},
     "output_type": "execute_result"
    }
   ],
   "source": [
    "pd.Series(result)"
   ]
  },
  {
   "cell_type": "code",
   "execution_count": 52,
   "metadata": {
    "id": "dI2iP1ydX03U"
   },
   "outputs": [
    {
     "data": {
      "text/html": [
       "<div>\n",
       "<style scoped>\n",
       "    .dataframe tbody tr th:only-of-type {\n",
       "        vertical-align: middle;\n",
       "    }\n",
       "\n",
       "    .dataframe tbody tr th {\n",
       "        vertical-align: top;\n",
       "    }\n",
       "\n",
       "    .dataframe thead th {\n",
       "        text-align: right;\n",
       "    }\n",
       "</style>\n",
       "<table border=\"1\" class=\"dataframe\">\n",
       "  <thead>\n",
       "    <tr style=\"text-align: right;\">\n",
       "      <th></th>\n",
       "      <th>user_id</th>\n",
       "      <th>pred</th>\n",
       "    </tr>\n",
       "  </thead>\n",
       "  <tbody>\n",
       "    <tr>\n",
       "      <th>0</th>\n",
       "      <td>user_2</td>\n",
       "      <td>0</td>\n",
       "    </tr>\n",
       "    <tr>\n",
       "      <th>1</th>\n",
       "      <td>user_8</td>\n",
       "      <td>0</td>\n",
       "    </tr>\n",
       "    <tr>\n",
       "      <th>2</th>\n",
       "      <td>user_10</td>\n",
       "      <td>0</td>\n",
       "    </tr>\n",
       "    <tr>\n",
       "      <th>3</th>\n",
       "      <td>user_13</td>\n",
       "      <td>0</td>\n",
       "    </tr>\n",
       "    <tr>\n",
       "      <th>4</th>\n",
       "      <td>user_17</td>\n",
       "      <td>0</td>\n",
       "    </tr>\n",
       "    <tr>\n",
       "      <th>...</th>\n",
       "      <td>...</td>\n",
       "      <td>...</td>\n",
       "    </tr>\n",
       "    <tr>\n",
       "      <th>3881</th>\n",
       "      <td>user_18748</td>\n",
       "      <td>1</td>\n",
       "    </tr>\n",
       "    <tr>\n",
       "      <th>3882</th>\n",
       "      <td>user_18788</td>\n",
       "      <td>1</td>\n",
       "    </tr>\n",
       "    <tr>\n",
       "      <th>3883</th>\n",
       "      <td>user_18904</td>\n",
       "      <td>0</td>\n",
       "    </tr>\n",
       "    <tr>\n",
       "      <th>3884</th>\n",
       "      <td>user_19194</td>\n",
       "      <td>1</td>\n",
       "    </tr>\n",
       "    <tr>\n",
       "      <th>3885</th>\n",
       "      <td>user_19394</td>\n",
       "      <td>0</td>\n",
       "    </tr>\n",
       "  </tbody>\n",
       "</table>\n",
       "<p>3886 rows × 2 columns</p>\n",
       "</div>"
      ],
      "text/plain": [
       "         user_id  pred\n",
       "0         user_2     0\n",
       "1         user_8     0\n",
       "2        user_10     0\n",
       "3        user_13     0\n",
       "4        user_17     0\n",
       "...          ...   ...\n",
       "3881  user_18748     1\n",
       "3882  user_18788     1\n",
       "3883  user_18904     0\n",
       "3884  user_19194     1\n",
       "3885  user_19394     0\n",
       "\n",
       "[3886 rows x 2 columns]"
      ]
     },
     "execution_count": 52,
     "metadata": {},
     "output_type": "execute_result"
    }
   ],
   "source": [
    "predictions = data_test.reset_index()['user_id']\n",
    "predictions = pd.concat([predictions,pd.Series(result)], axis =1)\n",
    "predictions.rename(columns ={0: 'pred'}, inplace = True)\n",
    "predictions.to_csv(\"data/test_preds.csv\")\n",
    "predictions"
   ]
  }
 ],
 "metadata": {
  "colab": {
   "collapsed_sections": [],
   "name": "1st_Prize.ipynb",
   "provenance": []
  },
  "kernelspec": {
   "display_name": "Python 3",
   "language": "python",
   "name": "python3"
  },
  "language_info": {
   "codemirror_mode": {
    "name": "ipython",
    "version": 3
   },
   "file_extension": ".py",
   "mimetype": "text/x-python",
   "name": "python",
   "nbconvert_exporter": "python",
   "pygments_lexer": "ipython3",
   "version": "3.9.2"
  }
 },
 "nbformat": 4,
 "nbformat_minor": 1
}
